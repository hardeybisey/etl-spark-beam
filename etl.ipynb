{
 "cells": [
  {
   "cell_type": "code",
   "execution_count": 88,
   "metadata": {},
   "outputs": [],
   "source": [
    "# !python -m pip install --upgrade pip\n",
    "# !pip install --upgrade google-cloud-bigquery\n",
    "# !pip install --upgrade google-cloud-storage\n",
    "# !pip install --upgrade google-cloud-pubsub\n",
    "# gcloud init\n",
    "# gcloud auth application-default login\n",
    "# gcloud config set project 'project-id'\n",
    "# !gcloud pubsub topics create my-topic\n",
    "# !gcloud pubsub subscriptions create my-sub --topic my-topic\n",
    "# !gcloud iam service-accounts create SERVICE_ACCOUNT_NAME\n",
    "# !gcloud projects add-iam-policy-binding PROJECT_ID --member=\"serviceAccount:SERVICE_ACCOUNT_NAME@PROJECT_ID.iam.gserviceaccount.com\" --role=ROLE"
   ]
  },
  {
   "cell_type": "code",
   "execution_count": 90,
   "metadata": {},
   "outputs": [],
   "source": [
    "# !gcloud iam service-accounts create pubsub\n",
    "# !gcloud projects add-iam-policy-binding triple-baton-382908 --member=\"serviceAccount:pubsub@triple-baton-382908.iam.gserviceaccount.com\" --role=roles/pubsub.admin"
   ]
  },
  {
   "cell_type": "code",
   "execution_count": 20,
   "metadata": {},
   "outputs": [],
   "source": [
    "from google.cloud import bigquery\n",
    "from google.cloud import storage\n",
    "from google.cloud import pubsub_v1\n",
    "import os\n",
    "import google.auth"
   ]
  },
  {
   "cell_type": "code",
   "execution_count": null,
   "metadata": {},
   "outputs": [],
   "source": [
    "PROJECT_ID = \"triple-baton-382908\"\n",
    "bq_credentials, project = google.auth.default()\n",
    "bq_client = bigquery.Client(project=PROJECT_ID)\n",
    "storage_client = storage.Client(project=PROJECT_ID)"
   ]
  },
  {
   "attachments": {},
   "cell_type": "markdown",
   "metadata": {},
   "source": [
    "# Create topic and subscription"
   ]
  },
  {
   "cell_type": "code",
   "execution_count": null,
   "metadata": {},
   "outputs": [],
   "source": [
    "publisher = pubsub_v1.PublisherClient()\n",
    "\n",
    "project_id = \"your-project-id\"\n",
    "topic_id = \"your-topic-id\"\n",
    "subscription_id = \"your-subscriber-id\"\n",
    "\n",
    "publisher = pubsub_v1.PublisherClient()\n",
    "subscriber = pubsub_v1.SubscriberClient()\n",
    "\n",
    "topic_path = publisher.topic_path(project_id, topic_id)\n",
    "subscription_path = subscriber.subscription_path(project_id, subscription_id)\n",
    "topic = publisher.create_topic(request={\"name\": topic_path})\n",
    "\n",
    "\n",
    "with subscriber:\n",
    "    subscription = subscriber.create_subscription(\n",
    "        request={\"name\": subscription_path, \"topic\": topic_path}\n",
    "    )\n",
    "\n",
    "print(f\"Subscription created: {subscription}\")"
   ]
  },
  {
   "attachments": {},
   "cell_type": "markdown",
   "metadata": {},
   "source": [
    "# add schema to a topic"
   ]
  },
  {
   "cell_type": "code",
   "execution_count": null,
   "metadata": {},
   "outputs": [],
   "source": [
    "from google.api_core.exceptions import AlreadyExists, InvalidArgument\n",
    "from google.cloud.pubsub import PublisherClient, SchemaServiceClient\n",
    "from google.pubsub_v1.types import Encoding\n",
    "\n",
    "# TODO(developer): Replace these variables before running the sample.\n",
    "# project_id = \"your-project-id\"\n",
    "# topic_id = \"your-topic-id\"\n",
    "# schema_id = \"your-schema-id\"\n",
    "# first_revision_id = \"your-revision-id\"\n",
    "# last_revision_id = \"your-revision-id\"\n",
    "# Choose either BINARY or JSON as valid message encoding in this topic.\n",
    "# message_encoding = \"BINARY\"\n",
    "\n",
    "publisher_client = PublisherClient()\n",
    "topic_path = publisher_client.topic_path(project_id, topic_id)\n",
    "\n",
    "schema_client = SchemaServiceClient()\n",
    "schema_path = schema_client.schema_path(project_id, schema_id)\n",
    "\n",
    "if message_encoding == \"BINARY\":\n",
    "    encoding = Encoding.BINARY\n",
    "elif message_encoding == \"JSON\":\n",
    "    encoding = Encoding.JSON\n",
    "else:\n",
    "    encoding = Encoding.ENCODING_UNSPECIFIED\n",
    "    \n",
    "try:\n",
    "    response = publisher_client.create_topic(\n",
    "        request={\n",
    "            \"name\": topic_path,\n",
    "            \"schema_settings\": {\n",
    "                \"schema\": schema_path,\n",
    "                \"encoding\": encoding,\n",
    "                \"first_revision_id\": first_revision_id,\n",
    "                \"last_revision_id\": last_revision_id,\n",
    "            },\n",
    "        }\n",
    "    )\n",
    "    print(f\"Created a topic:\\n{response}\")\n",
    "\n",
    "except AlreadyExists:\n",
    "    print(f\"{topic_id} already exists.\")\n",
    "except InvalidArgument:\n",
    "    print(\"Please choose either BINARY or JSON as a valid message encoding type.\")"
   ]
  },
  {
   "cell_type": "code",
   "execution_count": null,
   "metadata": {},
   "outputs": [],
   "source": [
    "!cat /Users/{username}/.config/gcloud/application_default_credentials.json\n"
   ]
  },
  {
   "cell_type": "code",
   "execution_count": 74,
   "metadata": {},
   "outputs": [
    {
     "name": "stderr",
     "output_type": "stream",
     "text": [
      "/Users/hardey/opt/anaconda3/envs/bigdata/lib/python3.9/site-packages/google/auth/_default.py:78: UserWarning: Your application has authenticated using end user credentials from Google Cloud SDK without a quota project. You might receive a \"quota exceeded\" or \"API not enabled\" error. See the following page for troubleshooting: https://cloud.google.com/docs/authentication/adc-troubleshooting/user-creds. \n",
      "  warnings.warn(_CLOUD_SDK_CREDENTIALS_WARNING)\n"
     ]
    },
    {
     "name": "stdout",
     "output_type": "stream",
     "text": [
      "published b'Message number 0' of message ID 8466831988385189\n",
      "published b'Message number 1' of message ID 8466837745448942\n"
     ]
    }
   ],
   "source": [
    "# credentials_path = \"\"\n",
    "# os.environ[\"GOOGLE_APPLICATION_CREDENTIALS\"] = credentials_path\n",
    "publisher = pubsub_v1.PublisherClient()\n",
    "publisher.create_topic(\"projects/triple-baton-382908/topics/my-topic\")\n",
    "topic_path = publisher.topic_path(PROJECT_ID, \"my-topic\")\n",
    "\n",
    "for i in range(2):\n",
    "    data = \"Message number {}\".format(i)\n",
    "    data = data.encode(\"utf-8\")\n",
    "    attributes = {\"origin\": \"python-sample\"}\n",
    "    future = publisher.publish(topic_path, data=data, **attributes)\n",
    "    print(\"published {} of message ID {}\".format(data, future.result()))"
   ]
  },
  {
   "cell_type": "code",
   "execution_count": 41,
   "metadata": {},
   "outputs": [],
   "source": []
  },
  {
   "cell_type": "code",
   "execution_count": 64,
   "metadata": {},
   "outputs": [
    {
     "name": "stderr",
     "output_type": "stream",
     "text": [
      "/Users/hardey/opt/anaconda3/envs/bigdata/lib/python3.9/site-packages/google/auth/_default.py:78: UserWarning: Your application has authenticated using end user credentials from Google Cloud SDK without a quota project. You might receive a \"quota exceeded\" or \"API not enabled\" error. See the following page for troubleshooting: https://cloud.google.com/docs/authentication/adc-troubleshooting/user-creds. \n",
      "  warnings.warn(_CLOUD_SDK_CREDENTIALS_WARNING)\n"
     ]
    }
   ],
   "source": [
    "\n",
    "\n",
    "# credentials_path = \"\"\n",
    "# os.environ[\"GOOGLE_APPLICATION_CREDENTIALS\"] = credentials_path\n",
    "\n",
    "\n"
   ]
  },
  {
   "cell_type": "code",
   "execution_count": 58,
   "metadata": {},
   "outputs": [],
   "source": []
  },
  {
   "cell_type": "code",
   "execution_count": 75,
   "metadata": {},
   "outputs": [
    {
     "name": "stderr",
     "output_type": "stream",
     "text": [
      "/Users/hardey/opt/anaconda3/envs/bigdata/lib/python3.9/site-packages/google/auth/_default.py:78: UserWarning: Your application has authenticated using end user credentials from Google Cloud SDK without a quota project. You might receive a \"quota exceeded\" or \"API not enabled\" error. See the following page for troubleshooting: https://cloud.google.com/docs/authentication/adc-troubleshooting/user-creds. \n",
      "  warnings.warn(_CLOUD_SDK_CREDENTIALS_WARNING)\n"
     ]
    },
    {
     "name": "stdout",
     "output_type": "stream",
     "text": [
      "Listening for messages on projects/triple-baton-382908/subscriptions/my-sub..\n",
      "\n",
      "Received message: Message {\n",
      "  data: b'Message number 0'\n",
      "  ordering_key: ''\n",
      "  attributes: {\n",
      "    \"origin\": \"python-sample\"\n",
      "  }\n",
      "}\n",
      "data: b'Message number 0'\n",
      "attributes:\n",
      "origin: python-sample\n",
      "Received message: Message {\n",
      "  data: b'Message number 1'\n",
      "  ordering_key: ''\n",
      "  attributes: {\n",
      "    \"origin\": \"python-sample\"\n",
      "  }\n",
      "}\n",
      "data: b'Message number 1'\n",
      "attributes:\n",
      "origin: python-sample\n"
     ]
    }
   ],
   "source": [
    "subscriber = pubsub_v1.SubscriberClient()\n",
    "subscription_path = subscriber.subscription_path(PROJECT_ID, \"my-sub\")\n",
    "\n",
    "streaming_pull_future = subscriber.subscribe(subscription_path, callback=callback)\n",
    "print(\"Listening for messages on {}..\\n\".format(subscription_path))\n",
    "\n",
    "with subscriber:\n",
    "    try:\n",
    "        streaming_pull_future.result(timeout=5)\n",
    "    except TimeoutError:\n",
    "        streaming_pull_future.cancel()"
   ]
  },
  {
   "cell_type": "code",
   "execution_count": 67,
   "metadata": {},
   "outputs": [
    {
     "name": "stderr",
     "output_type": "stream",
     "text": [
      "Thread-ConsumeBidirectionalStream caught unexpected exception Cannot invoke RPC: Channel closed! and will exit.\n",
      "Traceback (most recent call last):\n",
      "  File \"/Users/hardey/opt/anaconda3/envs/bigdata/lib/python3.9/site-packages/google/api_core/bidi.py\", line 636, in _thread_main\n",
      "    self._bidi_rpc.open()\n",
      "  File \"/Users/hardey/opt/anaconda3/envs/bigdata/lib/python3.9/site-packages/google/api_core/bidi.py\", line 279, in open\n",
      "    call = self._start_rpc(iter(request_generator), metadata=self._rpc_metadata)\n",
      "  File \"/Users/hardey/opt/anaconda3/envs/bigdata/lib/python3.9/site-packages/google/pubsub_v1/services/subscriber/client.py\", line 1589, in streaming_pull\n",
      "    response = rpc(\n",
      "  File \"/Users/hardey/opt/anaconda3/envs/bigdata/lib/python3.9/site-packages/google/api_core/gapic_v1/method.py\", line 113, in __call__\n",
      "    return wrapped_func(*args, **kwargs)\n",
      "  File \"/Users/hardey/opt/anaconda3/envs/bigdata/lib/python3.9/site-packages/google/api_core/retry.py\", line 349, in retry_wrapped_func\n",
      "    return retry_target(\n",
      "  File \"/Users/hardey/opt/anaconda3/envs/bigdata/lib/python3.9/site-packages/google/api_core/retry.py\", line 191, in retry_target\n",
      "    return target()\n",
      "  File \"/Users/hardey/opt/anaconda3/envs/bigdata/lib/python3.9/site-packages/google/api_core/timeout.py\", line 120, in func_with_timeout\n",
      "    return func(*args, **kwargs)\n",
      "  File \"/Users/hardey/opt/anaconda3/envs/bigdata/lib/python3.9/site-packages/google/api_core/grpc_helpers.py\", line 156, in error_remapped_callable\n",
      "    result = callable_(*args, **kwargs)\n",
      "  File \"/Users/hardey/opt/anaconda3/envs/bigdata/lib/python3.9/site-packages/grpc/_channel.py\", line 1336, in __call__\n",
      "    call = self._managed_call(\n",
      "  File \"/Users/hardey/opt/anaconda3/envs/bigdata/lib/python3.9/site-packages/grpc/_channel.py\", line 1438, in create\n",
      "    call = state.channel.integrated_call(flags, method, host, deadline,\n",
      "  File \"src/python/grpcio/grpc/_cython/_cygrpc/channel.pyx.pxi\", line 474, in grpc._cython.cygrpc.Channel.integrated_call\n",
      "  File \"src/python/grpcio/grpc/_cython/_cygrpc/channel.pyx.pxi\", line 294, in grpc._cython.cygrpc._integrated_call\n",
      "  File \"src/python/grpcio/grpc/_cython/_cygrpc/channel.pyx.pxi\", line 218, in grpc._cython.cygrpc._call\n",
      "  File \"src/python/grpcio/grpc/_cython/_cygrpc/channel.pyx.pxi\", line 258, in grpc._cython.cygrpc._call\n",
      "ValueError: Cannot invoke RPC: Channel closed!\n"
     ]
    }
   ],
   "source": [
    "streaming_pull_future = subscriber.subscribe(subscription_path, callback=callback)"
   ]
  },
  {
   "cell_type": "code",
   "execution_count": null,
   "metadata": {},
   "outputs": [],
   "source": [
    "\n",
    "bigquery_table_id = \"your-project.your-dataset.your-table\"\n",
    "bigquery_config = pubsub_v1.types.BigQueryConfig(\n",
    "    table=bigquery_table_id, write_metadata=True\n",
    ")\n",
    "\n",
    "# Wrap the subscriber in a 'with' block to automatically call close() to\n",
    "# close the underlying gRPC channel when done.\n",
    "with subscriber:\n",
    "    subscription = subscriber.create_subscription(\n",
    "        request={\n",
    "            \"name\": subscription_path,\n",
    "            \"topic\": topic_path,\n",
    "            \"bigquery_config\": bigquery_config,\n",
    "        }\n",
    "    )\n"
   ]
  }
 ],
 "metadata": {
  "kernelspec": {
   "display_name": "bigdata",
   "language": "python",
   "name": "python3"
  },
  "language_info": {
   "codemirror_mode": {
    "name": "ipython",
    "version": 3
   },
   "file_extension": ".py",
   "mimetype": "text/x-python",
   "name": "python",
   "nbconvert_exporter": "python",
   "pygments_lexer": "ipython3",
   "version": "3.9.16"
  },
  "orig_nbformat": 4
 },
 "nbformat": 4,
 "nbformat_minor": 2
}
