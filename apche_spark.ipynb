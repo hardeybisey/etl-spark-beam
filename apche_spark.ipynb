{
 "cells": [
  {
   "cell_type": "code",
   "execution_count": 235,
   "metadata": {},
   "outputs": [
    {
     "data": {
      "text/html": [
       "\n",
       "            <div>\n",
       "                <p><b>SparkSession - in-memory</b></p>\n",
       "                \n",
       "        <div>\n",
       "            <p><b>SparkContext</b></p>\n",
       "\n",
       "            <p><a href=\"http://192.168.0.11:4040\">Spark UI</a></p>\n",
       "\n",
       "            <dl>\n",
       "              <dt>Version</dt>\n",
       "                <dd><code>v3.3.1</code></dd>\n",
       "              <dt>Master</dt>\n",
       "                <dd><code>local[*]</code></dd>\n",
       "              <dt>AppName</dt>\n",
       "                <dd><code>SparkSQL</code></dd>\n",
       "            </dl>\n",
       "        </div>\n",
       "        \n",
       "            </div>\n",
       "        "
      ],
      "text/plain": [
       "<pyspark.sql.session.SparkSession at 0x7f7f4ab3b610>"
      ]
     },
     "execution_count": 235,
     "metadata": {},
     "output_type": "execute_result"
    }
   ],
   "source": [
    "from pyspark.sql import SparkSession\n",
    "import pyspark.sql.types as types\n",
    "import pyspark.sql.functions as F\n",
    "\n",
    "spark = SparkSession.builder.appName(\"SparkSQL\").getOrCreate()\n",
    "sc = spark.sparkContext\n",
    "spark"
   ]
  },
  {
   "cell_type": "code",
   "execution_count": 240,
   "metadata": {},
   "outputs": [],
   "source": [
    "df = spark.read.csv(\"data/IBM.csv\", header=True, inferSchema=True).sample(False, 0.3)"
   ]
  },
  {
   "cell_type": "code",
   "execution_count": 241,
   "metadata": {},
   "outputs": [
    {
     "name": "stdout",
     "output_type": "stream",
     "text": [
      "root\n",
      " |-- Age: integer (nullable = true)\n",
      " |-- Attrition: string (nullable = true)\n",
      " |-- Department: string (nullable = true)\n",
      " |-- DistanceFromHome: integer (nullable = true)\n",
      " |-- Education: integer (nullable = true)\n",
      " |-- EducationField: string (nullable = true)\n",
      " |-- EnvironmentSatisfaction: integer (nullable = true)\n",
      " |-- JobSatisfaction: integer (nullable = true)\n",
      " |-- MaritalStatus: string (nullable = true)\n",
      " |-- MonthlyIncome: integer (nullable = true)\n",
      " |-- NumCompaniesWorked: integer (nullable = true)\n",
      " |-- WorkLifeBalance: integer (nullable = true)\n",
      " |-- YearsAtCompany: integer (nullable = true)\n",
      "\n"
     ]
    }
   ],
   "source": [
    "df.printSchema()"
   ]
  },
  {
   "attachments": {},
   "cell_type": "markdown",
   "metadata": {},
   "source": [
    "# calculating simple statistics on dataframe"
   ]
  },
  {
   "cell_type": "code",
   "execution_count": 352,
   "metadata": {},
   "outputs": [
    {
     "name": "stdout",
     "output_type": "stream",
     "text": [
      "+-------+-----------------+---------+---------------+-----------------+------------------+----------------+-----------------------+-----------------+-------------+-----------------+------------------+------------------+-----------------+\n",
      "|summary|              Age|Attrition|     Department| DistanceFromHome|         Education|  EducationField|EnvironmentSatisfaction|  JobSatisfaction|MaritalStatus|    MonthlyIncome|NumCompaniesWorked|   WorkLifeBalance|   YearsAtCompany|\n",
      "+-------+-----------------+---------+---------------+-----------------+------------------+----------------+-----------------------+-----------------+-------------+-----------------+------------------+------------------+-----------------+\n",
      "|  count|              440|      440|            440|              440|               440|             440|                    440|              440|          440|              440|               440|               440|              440|\n",
      "|   mean|36.85227272727273|     null|           null|8.568181818181818|2.9068181818181817|            null|      2.706818181818182|2.706818181818182|         null|6600.015909090909|2.6227272727272726|2.7181818181818183|7.179545454545455|\n",
      "| stddev|9.327671831348484|     null|           null|7.854594660384439|1.0204955978701296|            null|     1.0895857663651263|1.089585766365126|         null|4918.177735134272|2.5216026682581414|0.7562263124617901|6.067354654511629|\n",
      "|    min|               18|       No|Human Resources|                1|                 1| Human Resources|                      1|                1|     Divorced|             1081|                 0|                 1|                0|\n",
      "|    max|               60|      Yes|          Sales|               29|                 5|Technical Degree|                      4|                4|       Single|            19847|                 9|                 4|               34|\n",
      "+-------+-----------------+---------+---------------+-----------------+------------------+----------------+-----------------------+-----------------+-------------+-----------------+------------------+------------------+-----------------+\n",
      "\n",
      "+-------+---+-------------+\n",
      "|summary|Age|MonthlyIncome|\n",
      "+-------+---+-------------+\n",
      "|  count|440|          440|\n",
      "|    min| 18|         1081|\n",
      "|    25%| 30|         2862|\n",
      "|    75%| 42|         8446|\n",
      "|    max| 60|        19847|\n",
      "+-------+---+-------------+\n",
      "\n",
      "+-------------------+------------------+\n",
      "|      kurtosis(Age)|     skewness(Age)|\n",
      "+-------------------+------------------+\n",
      "|-0.3681496319319435|0.4849084942918955|\n",
      "+-------------------+------------------+\n",
      "\n"
     ]
    }
   ],
   "source": [
    "df.describe().show()\n",
    "\n",
    "df.select(\"Age\", \"MonthlyIncome\").summary(\"count\", \"min\", \"25%\", \"75%\", \"max\").show()\n",
    "\n",
    "df.agg(F.kurtosis(\"Age\"), F.skewness(\"Age\")).show()"
   ]
  },
  {
   "attachments": {},
   "cell_type": "markdown",
   "metadata": {},
   "source": [
    "# aggregation on dataframe"
   ]
  },
  {
   "cell_type": "code",
   "execution_count": 353,
   "metadata": {},
   "outputs": [
    {
     "name": "stdout",
     "output_type": "stream",
     "text": [
      "+------+------+-----------------+-----------------+\n",
      "|MinAge|MaxAge|        StdDevAge|           AvgAge|\n",
      "+------+------+-----------------+-----------------+\n",
      "|    18|    60|9.327671831348484|36.85227272727273|\n",
      "+------+------+-----------------+-----------------+\n",
      "\n",
      "+--------------------+----------------+-----+\n",
      "|          Department|  EducationField|count|\n",
      "+--------------------+----------------+-----+\n",
      "|     Human Resources|Technical Degree|    3|\n",
      "|     Human Resources| Human Resources|    8|\n",
      "|     Human Resources|         Medical|    2|\n",
      "|     Human Resources|   Life Sciences|    4|\n",
      "|Research & Develo...|           Other|   19|\n",
      "|Research & Develo...|Technical Degree|   26|\n",
      "|Research & Develo...|   Life Sciences|  138|\n",
      "|Research & Develo...|         Medical|   93|\n",
      "|               Sales|Technical Degree|   15|\n",
      "|               Sales|         Medical|   26|\n",
      "|               Sales|       Marketing|   45|\n",
      "|               Sales|   Life Sciences|   59|\n",
      "|               Sales|           Other|    2|\n",
      "+--------------------+----------------+-----+\n",
      "\n"
     ]
    }
   ],
   "source": [
    "aggregations = [\n",
    "    F.min(\"Age\").alias(\"MinAge\"),\n",
    "    F.max(\"Age\").alias(\"MaxAge\"),\n",
    "    F.stddev(\"Age\").alias(\"StdDevAge\"),\n",
    "    F.avg(\"Age\").alias(\"AvgAge\"),\n",
    "]\n",
    "\n",
    "df.agg(*aggregations).show()\n",
    "\n",
    "\n",
    "df.groupBy(\"Department\",\"EducationField\").count().orderBy(\"Department\").show()"
   ]
  },
  {
   "attachments": {},
   "cell_type": "markdown",
   "metadata": {},
   "source": [
    "# Selecting data from dataframe"
   ]
  },
  {
   "cell_type": "code",
   "execution_count": 354,
   "metadata": {},
   "outputs": [
    {
     "name": "stdout",
     "output_type": "stream",
     "text": [
      "+--------------------+----------------+----------------+----------------+------------------+\n",
      "|          Department|  EducationField|MinMonthlyIncome|MaxMonthlyIncome| AvgAMonthlyIncome|\n",
      "+--------------------+----------------+----------------+----------------+------------------+\n",
      "|     Human Resources| Human Resources|            2187|           19141|          8044.125|\n",
      "|     Human Resources|   Life Sciences|            2064|           14026|           5443.25|\n",
      "|     Human Resources|         Medical|            2267|           10725|            6496.0|\n",
      "|     Human Resources|Technical Degree|            2564|            4323|3194.3333333333335|\n",
      "|Research & Develo...|   Life Sciences|            1393|           19740| 6095.442028985507|\n",
      "|Research & Develo...|         Medical|            1706|           19701| 6803.193548387097|\n",
      "|Research & Develo...|           Other|            2544|           19202| 6762.315789473684|\n",
      "|Research & Develo...|Technical Degree|            1274|           19232| 5078.346153846154|\n",
      "|               Sales|   Life Sciences|            2220|           19847|7583.5084745762715|\n",
      "|               Sales|       Marketing|            1790|           19845| 7485.666666666667|\n",
      "|               Sales|         Medical|            1081|           19517| 6519.307692307692|\n",
      "|               Sales|           Other|            2121|            8412|            5266.5|\n",
      "|               Sales|Technical Degree|            2086|           16872|            6440.0|\n",
      "+--------------------+----------------+----------------+----------------+------------------+\n",
      "\n"
     ]
    }
   ],
   "source": [
    "# using sql to query dataframe\n",
    "df.createOrReplaceTempView(\"sample_df_view\")\n",
    "\n",
    "sqlquery = \"\"\"\n",
    "SELECT\n",
    "    DISTINCT Department, EducationField,\n",
    "    MIN(MonthlyIncome) OVER (PARTITION BY Department, EducationField) AS MinMonthlyIncome,\n",
    "    MAX(MonthlyIncome) OVER (PARTITION BY Department, EducationField) AS MaxMonthlyIncome,\n",
    "    AVG(MonthlyIncome) OVER (PARTITION BY Department, EducationField) AS AvgAMonthlyIncome\n",
    "FROM sample_df_view\n",
    "ORDER BY Department , EducationField\n",
    "\"\"\"\n",
    "spark.sql(sqlquery).show()"
   ]
  },
  {
   "cell_type": "code",
   "execution_count": 355,
   "metadata": {},
   "outputs": [
    {
     "name": "stdout",
     "output_type": "stream",
     "text": [
      "+--------------------+-------------+\n",
      "|          Department|MaritalStatus|\n",
      "+--------------------+-------------+\n",
      "|     Human Resources|     Divorced|\n",
      "|     Human Resources|      Married|\n",
      "|     Human Resources|       Single|\n",
      "|Research & Develo...|     Divorced|\n",
      "|Research & Develo...|      Married|\n",
      "|Research & Develo...|       Single|\n",
      "|               Sales|     Divorced|\n",
      "|               Sales|      Married|\n",
      "|               Sales|       Single|\n",
      "+--------------------+-------------+\n",
      "\n"
     ]
    }
   ],
   "source": [
    "# use select or drop to remove columns\n",
    "df.select(\"Department\",\"MaritalStatus\").distinct()\\\n",
    "    .orderBy(\"Department\",\"MaritalStatus\").show()"
   ]
  },
  {
   "attachments": {},
   "cell_type": "markdown",
   "metadata": {},
   "source": [
    "# joining two dataframes"
   ]
  },
  {
   "cell_type": "code",
   "execution_count": 264,
   "metadata": {},
   "outputs": [
    {
     "name": "stdout",
     "output_type": "stream",
     "text": [
      "+---------+---+---------+--------------------+----------------+----------------+-----------------------+---------------+-------------+-------------+------------------+---------------+--------------+---------+\n",
      "|Education|Age|Attrition|          Department|DistanceFromHome|  EducationField|EnvironmentSatisfaction|JobSatisfaction|MaritalStatus|MonthlyIncome|NumCompaniesWorked|WorkLifeBalance|YearsAtCompany|     Desc|\n",
      "+---------+---+---------+--------------------+----------------+----------------+-----------------------+---------------+-------------+-------------+------------------+---------------+--------------+---------+\n",
      "|        1| 31|       No|Research & Develo...|              26|   Life Sciences|                      1|              3|     Divorced|         2911|                 1|              2|             5|  Primary|\n",
      "|        1| 32|      Yes|Research & Develo...|              16|   Life Sciences|                      2|              1|       Single|         3919|                 1|              3|            10|  Primary|\n",
      "|        3| 39|      Yes|               Sales|               5|Technical Degree|                      4|              4|      Married|         2086|                 3|              4|             1| Tertiary|\n",
      "|        3| 33|       No|               Sales|               1|   Life Sciences|                      3|              1|      Married|         5376|                 2|              3|             5| Tertiary|\n",
      "|        2| 24|       No|Research & Develo...|              11|           Other|                      1|              3|     Divorced|         4011|                 0|              2|             4|Secondary|\n",
      "+---------+---+---------+--------------------+----------------+----------------+-----------------------+---------------+-------------+-------------+------------------+---------------+--------------+---------+\n",
      "only showing top 5 rows\n",
      "\n"
     ]
    }
   ],
   "source": [
    "education = spark.createDataFrame(\n",
    "    sc.parallelize([\n",
    "        (1, \"Primary\"),\n",
    "        (2, \"Secondary\"),\n",
    "        (3, \"Tertiary\"),\n",
    "        (4, \"PostGraduate\"),\n",
    "        (5, \"Doctorate\")\n",
    "        ]),\n",
    "    schema=[\"Education\", \"Desc\"])\n",
    "\n",
    "df.join(education, \n",
    "        on = [\"Education\"],\n",
    "        how =\"left\").show(5)"
   ]
  },
  {
   "attachments": {},
   "cell_type": "markdown",
   "metadata": {},
   "source": [
    "# Renaming columns"
   ]
  },
  {
   "cell_type": "code",
   "execution_count": 328,
   "metadata": {},
   "outputs": [
    {
     "name": "stdout",
     "output_type": "stream",
     "text": [
      "+------+----------------+\n",
      "|NewAge|NewMonthlyIncome|\n",
      "+------+----------------+\n",
      "|    38|            2406|\n",
      "|    59|            5473|\n",
      "|    32|            6220|\n",
      "+------+----------------+\n",
      "only showing top 3 rows\n",
      "\n",
      "+------+---------+--------------------+----------------+---------+--------------+-----------------------+---------------+-------------+----------------+------------------+---------------+--------------+\n",
      "|NewAge|Attrition|          Department|DistanceFromHome|Education|EducationField|EnvironmentSatisfaction|JobSatisfaction|MaritalStatus|NewMonthlyIncome|NumCompaniesWorked|WorkLifeBalance|YearsAtCompany|\n",
      "+------+---------+--------------------+----------------+---------+--------------+-----------------------+---------------+-------------+----------------+------------------+---------------+--------------+\n",
      "|    38|       No|Research & Develo...|              29|        5| Life Sciences|                      4|              4|       Single|            2406|                 1|              3|            10|\n",
      "|    59|       No|               Sales|               1|        1| Life Sciences|                      1|              3|       Single|            5473|                 7|              2|             4|\n",
      "|    32|       No|Research & Develo...|               1|        3| Life Sciences|                      2|              2|      Married|            6220|                 1|              3|            10|\n",
      "+------+---------+--------------------+----------------+---------+--------------+-----------------------+---------------+-------------+----------------+------------------+---------------+--------------+\n",
      "only showing top 3 rows\n",
      "\n"
     ]
    }
   ],
   "source": [
    "# using select + functions.col and alias\n",
    "df.select(\n",
    "    F.col(\"Age\").alias(\"NewAge\"),\n",
    "    F.col(\"MonthlyIncome\").alias(\"NewMonthlyIncome\")).show(3)\n",
    "\n",
    "# using withColumnRenamed\n",
    "df.withColumnRenamed(\"Age\",\"NewAge\").withColumnRenamed(\"MonthlyIncome\",\"NewMonthlyIncome\").show(3)"
   ]
  },
  {
   "attachments": {},
   "cell_type": "markdown",
   "metadata": {},
   "source": [
    "# filtering data"
   ]
  },
  {
   "cell_type": "code",
   "execution_count": 344,
   "metadata": {},
   "outputs": [
    {
     "name": "stdout",
     "output_type": "stream",
     "text": [
      "+---+---------+---------------+----------------+---------+---------------+-----------------------+---------------+-------------+-------------+------------------+---------------+--------------+\n",
      "|Age|Attrition|     Department|DistanceFromHome|Education| EducationField|EnvironmentSatisfaction|JobSatisfaction|MaritalStatus|MonthlyIncome|NumCompaniesWorked|WorkLifeBalance|YearsAtCompany|\n",
      "+---+---------+---------------+----------------+---------+---------------+-----------------------+---------------+-------------+-------------+------------------+---------------+--------------+\n",
      "| 55|       No|          Sales|               1|        2|  Life Sciences|                      1|              4|      Married|        10239|                 3|              3|             1|\n",
      "| 59|       No|Human Resources|               2|        4|Human Resources|                      3|              4|      Married|        18844|                 9|              3|             3|\n",
      "+---+---------+---------------+----------------+---------+---------------+-----------------------+---------------+-------------+-------------+------------------+---------------+--------------+\n",
      "only showing top 2 rows\n",
      "\n",
      "+---+---------+----------+----------------+---------+--------------+-----------------------+---------------+-------------+-------------+------------------+---------------+--------------+\n",
      "|Age|Attrition|Department|DistanceFromHome|Education|EducationField|EnvironmentSatisfaction|JobSatisfaction|MaritalStatus|MonthlyIncome|NumCompaniesWorked|WorkLifeBalance|YearsAtCompany|\n",
      "+---+---------+----------+----------------+---------+--------------+-----------------------+---------------+-------------+-------------+------------------+---------------+--------------+\n",
      "| 59|       No|     Sales|               1|        1| Life Sciences|                      1|              3|       Single|         5473|                 7|              2|             4|\n",
      "| 55|       No|     Sales|               1|        2| Life Sciences|                      1|              4|      Married|        10239|                 3|              3|             1|\n",
      "+---+---------+----------+----------------+---------+--------------+-----------------------+---------------+-------------+-------------+------------------+---------------+--------------+\n",
      "only showing top 2 rows\n",
      "\n"
     ]
    }
   ],
   "source": [
    "# using where\n",
    "df.where((F.col(\"Age\") > 40) & (F.col(\"MonthlyIncome\")>10000)).show(2)\n",
    "\n",
    "#using filter with SQL expression\n",
    "df.filter('Department IN (\"Sales\",\"Human Resources\")').show(2)"
   ]
  },
  {
   "attachments": {},
   "cell_type": "markdown",
   "metadata": {},
   "source": [
    "# Transforming data"
   ]
  },
  {
   "cell_type": "code",
   "execution_count": null,
   "metadata": {},
   "outputs": [],
   "source": []
  },
  {
   "cell_type": "code",
   "execution_count": 323,
   "metadata": {},
   "outputs": [],
   "source": [
    "# df  = df.rdd.repartition(4).toDF()"
   ]
  },
  {
   "attachments": {},
   "cell_type": "markdown",
   "metadata": {},
   "source": [
    "# removing duplicates from dataframe"
   ]
  },
  {
   "cell_type": "code",
   "execution_count": 295,
   "metadata": {},
   "outputs": [
    {
     "name": "stdout",
     "output_type": "stream",
     "text": [
      "+--------------------+-------------+\n",
      "|          Department|MaritalStatus|\n",
      "+--------------------+-------------+\n",
      "|     Human Resources|     Divorced|\n",
      "|     Human Resources|      Married|\n",
      "|     Human Resources|       Single|\n",
      "|Research & Develo...|     Divorced|\n",
      "|Research & Develo...|      Married|\n",
      "|Research & Develo...|       Single|\n",
      "|               Sales|     Divorced|\n",
      "|               Sales|      Married|\n",
      "|               Sales|       Single|\n",
      "+--------------------+-------------+\n",
      "\n"
     ]
    }
   ],
   "source": [
    "# use select or drop to remove columns\n",
    "\n",
    "df.select(\"Department\",\"MaritalStatus\").distinct()\\\n",
    "    .orderBy(\"Department\",\"MaritalStatus\").show()"
   ]
  },
  {
   "cell_type": "code",
   "execution_count": 288,
   "metadata": {},
   "outputs": [
    {
     "data": {
      "text/plain": [
       "[0, 1, 2, 3, 4, 5, 6, 7, 8, 9]"
      ]
     },
     "execution_count": 288,
     "metadata": {},
     "output_type": "execute_result"
    }
   ],
   "source": [
    "sc.parallelize(range(10), 4).collect()"
   ]
  },
  {
   "cell_type": "code",
   "execution_count": 327,
   "metadata": {},
   "outputs": [
    {
     "data": {
      "text/html": [
       "<div>\n",
       "<style scoped>\n",
       "    .dataframe tbody tr th:only-of-type {\n",
       "        vertical-align: middle;\n",
       "    }\n",
       "\n",
       "    .dataframe tbody tr th {\n",
       "        vertical-align: top;\n",
       "    }\n",
       "\n",
       "    .dataframe thead th {\n",
       "        text-align: right;\n",
       "    }\n",
       "</style>\n",
       "<table border=\"1\" class=\"dataframe\">\n",
       "  <thead>\n",
       "    <tr style=\"text-align: right;\">\n",
       "      <th></th>\n",
       "      <th>Age</th>\n",
       "      <th>Attrition</th>\n",
       "      <th>Department</th>\n",
       "      <th>DistanceFromHome</th>\n",
       "      <th>Education</th>\n",
       "      <th>EducationField</th>\n",
       "      <th>EnvironmentSatisfaction</th>\n",
       "      <th>JobSatisfaction</th>\n",
       "      <th>MaritalStatus</th>\n",
       "      <th>MonthlyIncome</th>\n",
       "      <th>NumCompaniesWorked</th>\n",
       "      <th>WorkLifeBalance</th>\n",
       "      <th>YearsAtCompany</th>\n",
       "    </tr>\n",
       "  </thead>\n",
       "  <tbody>\n",
       "    <tr>\n",
       "      <th>0</th>\n",
       "      <td>38</td>\n",
       "      <td>No</td>\n",
       "      <td>Research &amp; Development</td>\n",
       "      <td>29</td>\n",
       "      <td>5</td>\n",
       "      <td>Life Sciences</td>\n",
       "      <td>4</td>\n",
       "      <td>4</td>\n",
       "      <td>Single</td>\n",
       "      <td>2406</td>\n",
       "      <td>1</td>\n",
       "      <td>3</td>\n",
       "      <td>10</td>\n",
       "    </tr>\n",
       "    <tr>\n",
       "      <th>1</th>\n",
       "      <td>59</td>\n",
       "      <td>No</td>\n",
       "      <td>Sales</td>\n",
       "      <td>1</td>\n",
       "      <td>1</td>\n",
       "      <td>Life Sciences</td>\n",
       "      <td>1</td>\n",
       "      <td>3</td>\n",
       "      <td>Single</td>\n",
       "      <td>5473</td>\n",
       "      <td>7</td>\n",
       "      <td>2</td>\n",
       "      <td>4</td>\n",
       "    </tr>\n",
       "    <tr>\n",
       "      <th>2</th>\n",
       "      <td>32</td>\n",
       "      <td>No</td>\n",
       "      <td>Research &amp; Development</td>\n",
       "      <td>1</td>\n",
       "      <td>3</td>\n",
       "      <td>Life Sciences</td>\n",
       "      <td>2</td>\n",
       "      <td>2</td>\n",
       "      <td>Married</td>\n",
       "      <td>6220</td>\n",
       "      <td>1</td>\n",
       "      <td>3</td>\n",
       "      <td>10</td>\n",
       "    </tr>\n",
       "  </tbody>\n",
       "</table>\n",
       "</div>"
      ],
      "text/plain": [
       "   Age Attrition              Department  DistanceFromHome  Education  \\\n",
       "0   38        No  Research & Development                29          5   \n",
       "1   59        No                   Sales                 1          1   \n",
       "2   32        No  Research & Development                 1          3   \n",
       "\n",
       "  EducationField  EnvironmentSatisfaction  JobSatisfaction MaritalStatus  \\\n",
       "0  Life Sciences                        4                4        Single   \n",
       "1  Life Sciences                        1                3        Single   \n",
       "2  Life Sciences                        2                2       Married   \n",
       "\n",
       "   MonthlyIncome  NumCompaniesWorked  WorkLifeBalance  YearsAtCompany  \n",
       "0           2406                   1                3              10  \n",
       "1           5473                   7                2               4  \n",
       "2           6220                   1                3              10  "
      ]
     },
     "execution_count": 327,
     "metadata": {},
     "output_type": "execute_result"
    }
   ],
   "source": [
    "df.toPandas().head(3)"
   ]
  },
  {
   "cell_type": "code",
   "execution_count": 140,
   "metadata": {},
   "outputs": [
    {
     "name": "stdout",
     "output_type": "stream",
     "text": [
      "Package                         Version\n",
      "------------------------------- ---------\n",
      "apache-beam                     2.48.0\n",
      "appdirs                         1.4.4\n",
      "appnope                         0.1.3\n",
      "asttokens                       2.2.1\n",
      "backcall                        0.2.0\n",
      "backports.functools-lru-cache   1.6.4\n",
      "blis                            0.7.7\n",
      "Bottleneck                      1.3.5\n",
      "brotlipy                        0.7.0\n",
      "cachetools                      5.3.1\n",
      "catalogue                       2.0.7\n",
      "certifi                         2022.12.7\n",
      "cffi                            1.15.1\n",
      "charset-normalizer              2.0.4\n",
      "click                           8.0.4\n",
      "cloudpickle                     2.2.1\n",
      "colorama                        0.4.6\n",
      "comm                            0.1.2\n",
      "contourpy                       1.0.5\n",
      "crcmod                          1.7\n",
      "cryptography                    39.0.1\n",
      "cycler                          0.11.0\n",
      "cymem                           2.0.6\n",
      "debugpy                         1.6.6\n",
      "decorator                       5.1.1\n",
      "dill                            0.3.1.1\n",
      "dnspython                       2.3.0\n",
      "docopt                          0.6.2\n",
      "en-core-web-sm                  3.3.0\n",
      "executing                       1.2.0\n",
      "facets-overview                 1.1.1\n",
      "fastavro                        1.7.4\n",
      "fasteners                       0.18\n",
      "fonttools                       4.25.0\n",
      "future                          0.18.3\n",
      "google-api-core                 2.11.1\n",
      "google-api-python-client        2.90.0\n",
      "google-apitools                 0.5.31\n",
      "google-auth                     2.20.0\n",
      "google-auth-httplib2            0.1.0\n",
      "google-cloud                    0.34.0\n",
      "google-cloud-bigquery           3.11.2\n",
      "google-cloud-bigquery-storage   2.20.0\n",
      "google-cloud-bigtable           2.17.0\n",
      "google-cloud-core               2.3.2\n",
      "google-cloud-dataproc           5.4.1\n",
      "google-cloud-datastore          2.16.0\n",
      "google-cloud-dlp                3.12.1\n",
      "google-cloud-language           2.10.0\n",
      "google-cloud-pubsub             2.17.1\n",
      "google-cloud-pubsublite         1.8.2\n",
      "google-cloud-recommendations-ai 0.10.3\n",
      "google-cloud-spanner            3.36.0\n",
      "google-cloud-storage            2.9.0\n",
      "google-cloud-videointelligence  2.11.2\n",
      "google-cloud-vision             3.4.3\n",
      "google-crc32c                   1.5.0\n",
      "google-resumable-media          2.5.0\n",
      "googleapis-common-protos        1.59.1\n",
      "graphviz                        0.20.1\n",
      "grpc-google-iam-v1              0.12.6\n",
      "grpcio                          1.56.0\n",
      "grpcio-status                   1.56.0\n",
      "hdfs                            2.7.0\n",
      "httplib2                        0.22.0\n",
      "idna                            3.4\n",
      "importlib-metadata              6.0.0\n",
      "importlib-resources             5.2.0\n",
      "ipykernel                       6.21.1\n",
      "ipython                         8.9.0\n",
      "ipywidgets                      8.0.6\n",
      "jedi                            0.18.2\n",
      "Jinja2                          3.1.2\n",
      "joblib                          1.1.1\n",
      "jupyter_client                  8.0.2\n",
      "jupyter_core                    5.2.0\n",
      "jupyterlab-widgets              3.0.7\n",
      "kiwisolver                      1.4.4\n",
      "langcodes                       3.3.0\n",
      "MarkupSafe                      2.1.1\n",
      "matplotlib                      3.7.0\n",
      "matplotlib-inline               0.1.6\n",
      "mkl-fft                         1.3.1\n",
      "mkl-random                      1.2.2\n",
      "mkl-service                     2.4.0\n",
      "munkres                         1.1.4\n",
      "murmurhash                      1.0.7\n",
      "nest-asyncio                    1.5.6\n",
      "nltk                            3.7\n",
      "numexpr                         2.8.4\n",
      "numpy                           1.23.5\n",
      "oauth2client                    4.1.3\n",
      "objsize                         0.6.1\n",
      "opencv-python                   4.7.0.68\n",
      "orjson                          3.9.1\n",
      "overrides                       6.5.0\n",
      "packaging                       23.0\n",
      "pandas                          1.5.3\n",
      "parso                           0.8.3\n",
      "pathy                           0.10.1\n",
      "pexpect                         4.8.0\n",
      "pickleshare                     0.7.5\n",
      "Pillow                          9.4.0\n",
      "pip                             23.1.2\n",
      "platformdirs                    2.6.2\n",
      "pooch                           1.4.0\n",
      "preshed                         3.0.6\n",
      "prompt-toolkit                  3.0.36\n",
      "proto-plus                      1.22.3\n",
      "protobuf                        4.23.3\n",
      "psutil                          5.9.4\n",
      "ptyprocess                      0.7.0\n",
      "pure-eval                       0.2.2\n",
      "py4j                            0.10.9.5\n",
      "pyarrow                         11.0.0\n",
      "pyasn1                          0.5.0\n",
      "pyasn1-modules                  0.3.0\n",
      "pycparser                       2.21\n",
      "pydantic                        1.8.2\n",
      "pydot                           1.4.2\n",
      "Pygments                        2.14.0\n",
      "pymongo                         4.4.0\n",
      "pyOpenSSL                       23.0.0\n",
      "pyparsing                       3.0.9\n",
      "PySocks                         1.7.1\n",
      "pyspark                         3.3.1\n",
      "python-consul                   1.1.0\n",
      "python-dateutil                 2.8.2\n",
      "pytz                            2022.7.1\n",
      "PyYAML                          6.0\n",
      "pyzmq                           25.0.0\n",
      "regex                           2022.7.9\n",
      "requests                        2.28.1\n",
      "rsa                             4.9\n",
      "scikit-learn                    1.2.1\n",
      "scipy                           1.10.0\n",
      "seaborn                         0.12.2\n",
      "setuptools                      65.6.3\n",
      "shellingham                     1.5.0\n",
      "six                             1.16.0\n",
      "smart-open                      5.2.1\n",
      "spacy                           3.3.1\n",
      "spacy-legacy                    3.0.9\n",
      "spacy-loggers                   1.0.1\n",
      "sqlparse                        0.4.4\n",
      "srsly                           2.4.6\n",
      "stack-data                      0.6.2\n",
      "thinc                           8.0.15\n",
      "threadpoolctl                   2.2.0\n",
      "timeloop                        1.0.2\n",
      "torch                           1.12.1\n",
      "tornado                         6.2\n",
      "tqdm                            4.65.0\n",
      "traitlets                       5.9.0\n",
      "typer                           0.4.1\n",
      "typing_extensions               4.4.0\n",
      "uritemplate                     4.1.1\n",
      "urllib3                         1.26.14\n",
      "wasabi                          0.9.1\n",
      "wcwidth                         0.2.6\n",
      "wheel                           0.37.1\n",
      "widgetsnbextension              4.0.7\n",
      "xlrd                            2.0.1\n",
      "zipp                            3.12.0\n",
      "zstandard                       0.21.0\n"
     ]
    }
   ],
   "source": [
    "%%sh\n",
    "\n",
    "pip list"
   ]
  },
  {
   "cell_type": "code",
   "execution_count": 153,
   "metadata": {},
   "outputs": [],
   "source": [
    "spark.stop()"
   ]
  },
  {
   "cell_type": "code",
   "execution_count": 183,
   "metadata": {},
   "outputs": [],
   "source": [
    "# rdd.getNumPartitions() # num of partitions\n",
    "# rdd.repartition(8) # change num of partitions\n",
    "# rdd.coalesce(1) # change num of partitions without shuffling"
   ]
  }
 ],
 "metadata": {
  "kernelspec": {
   "display_name": "bigdata",
   "language": "python",
   "name": "python3"
  },
  "language_info": {
   "codemirror_mode": {
    "name": "ipython",
    "version": 3
   },
   "file_extension": ".py",
   "mimetype": "text/x-python",
   "name": "python",
   "nbconvert_exporter": "python",
   "pygments_lexer": "ipython3",
   "version": "3.9.16"
  },
  "orig_nbformat": 4
 },
 "nbformat": 4,
 "nbformat_minor": 2
}
