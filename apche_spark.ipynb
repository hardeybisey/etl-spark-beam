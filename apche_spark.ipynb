{
 "cells": [
  {
   "cell_type": "code",
   "execution_count": 235,
   "metadata": {},
   "outputs": [
    {
     "data": {
      "text/html": [
       "\n",
       "            <div>\n",
       "                <p><b>SparkSession - in-memory</b></p>\n",
       "                \n",
       "        <div>\n",
       "            <p><b>SparkContext</b></p>\n",
       "\n",
       "            <p><a href=\"http://192.168.0.11:4040\">Spark UI</a></p>\n",
       "\n",
       "            <dl>\n",
       "              <dt>Version</dt>\n",
       "                <dd><code>v3.3.1</code></dd>\n",
       "              <dt>Master</dt>\n",
       "                <dd><code>local[*]</code></dd>\n",
       "              <dt>AppName</dt>\n",
       "                <dd><code>SparkSQL</code></dd>\n",
       "            </dl>\n",
       "        </div>\n",
       "        \n",
       "            </div>\n",
       "        "
      ],
      "text/plain": [
       "<pyspark.sql.session.SparkSession at 0x7f7f4ab3b610>"
      ]
     },
     "execution_count": 235,
     "metadata": {},
     "output_type": "execute_result"
    }
   ],
   "source": [
    "from pyspark.sql import SparkSession\n",
    "import pyspark.sql.types as types\n",
    "import pyspark.sql.functions as F\n",
    "\n",
    "spark = SparkSession.builder.appName(\"SparkSQL\").getOrCreate()\n",
    "sc = spark.sparkContext\n",
    "spark"
   ]
  },
  {
   "cell_type": "code",
   "execution_count": 240,
   "metadata": {},
   "outputs": [],
   "source": [
    "df = spark.read.csv(\"data/IBM.csv\", header=True, inferSchema=True).sample(False, 0.3)"
   ]
  },
  {
   "cell_type": "code",
   "execution_count": 241,
   "metadata": {},
   "outputs": [
    {
     "name": "stdout",
     "output_type": "stream",
     "text": [
      "root\n",
      " |-- Age: integer (nullable = true)\n",
      " |-- Attrition: string (nullable = true)\n",
      " |-- Department: string (nullable = true)\n",
      " |-- DistanceFromHome: integer (nullable = true)\n",
      " |-- Education: integer (nullable = true)\n",
      " |-- EducationField: string (nullable = true)\n",
      " |-- EnvironmentSatisfaction: integer (nullable = true)\n",
      " |-- JobSatisfaction: integer (nullable = true)\n",
      " |-- MaritalStatus: string (nullable = true)\n",
      " |-- MonthlyIncome: integer (nullable = true)\n",
      " |-- NumCompaniesWorked: integer (nullable = true)\n",
      " |-- WorkLifeBalance: integer (nullable = true)\n",
      " |-- YearsAtCompany: integer (nullable = true)\n",
      "\n"
     ]
    }
   ],
   "source": [
    "df.printSchema()"
   ]
  },
  {
   "attachments": {},
   "cell_type": "markdown",
   "metadata": {},
   "source": [
    "# calculating simple statistics on dataframe"
   ]
  },
  {
   "cell_type": "code",
   "execution_count": 352,
   "metadata": {},
   "outputs": [
    {
     "name": "stdout",
     "output_type": "stream",
     "text": [
      "+-------+-----------------+---------+---------------+-----------------+------------------+----------------+-----------------------+-----------------+-------------+-----------------+------------------+------------------+-----------------+\n",
      "|summary|              Age|Attrition|     Department| DistanceFromHome|         Education|  EducationField|EnvironmentSatisfaction|  JobSatisfaction|MaritalStatus|    MonthlyIncome|NumCompaniesWorked|   WorkLifeBalance|   YearsAtCompany|\n",
      "+-------+-----------------+---------+---------------+-----------------+------------------+----------------+-----------------------+-----------------+-------------+-----------------+------------------+------------------+-----------------+\n",
      "|  count|              440|      440|            440|              440|               440|             440|                    440|              440|          440|              440|               440|               440|              440|\n",
      "|   mean|36.85227272727273|     null|           null|8.568181818181818|2.9068181818181817|            null|      2.706818181818182|2.706818181818182|         null|6600.015909090909|2.6227272727272726|2.7181818181818183|7.179545454545455|\n",
      "| stddev|9.327671831348484|     null|           null|7.854594660384439|1.0204955978701296|            null|     1.0895857663651263|1.089585766365126|         null|4918.177735134272|2.5216026682581414|0.7562263124617901|6.067354654511629|\n",
      "|    min|               18|       No|Human Resources|                1|                 1| Human Resources|                      1|                1|     Divorced|             1081|                 0|                 1|                0|\n",
      "|    max|               60|      Yes|          Sales|               29|                 5|Technical Degree|                      4|                4|       Single|            19847|                 9|                 4|               34|\n",
      "+-------+-----------------+---------+---------------+-----------------+------------------+----------------+-----------------------+-----------------+-------------+-----------------+------------------+------------------+-----------------+\n",
      "\n",
      "+-------+---+-------------+\n",
      "|summary|Age|MonthlyIncome|\n",
      "+-------+---+-------------+\n",
      "|  count|440|          440|\n",
      "|    min| 18|         1081|\n",
      "|    25%| 30|         2862|\n",
      "|    75%| 42|         8446|\n",
      "|    max| 60|        19847|\n",
      "+-------+---+-------------+\n",
      "\n",
      "+-------------------+------------------+\n",
      "|      kurtosis(Age)|     skewness(Age)|\n",
      "+-------------------+------------------+\n",
      "|-0.3681496319319435|0.4849084942918955|\n",
      "+-------------------+------------------+\n",
      "\n"
     ]
    }
   ],
   "source": [
    "df.describe().show()\n",
    "\n",
    "df.select(\"Age\", \"MonthlyIncome\").summary(\"count\", \"min\", \"25%\", \"75%\", \"max\").show()\n",
    "\n",
    "df.agg(F.kurtosis(\"Age\"), F.skewness(\"Age\")).show()"
   ]
  },
  {
   "attachments": {},
   "cell_type": "markdown",
   "metadata": {},
   "source": [
    "# aggregation on dataframe"
   ]
  },
  {
   "cell_type": "code",
   "execution_count": 353,
   "metadata": {},
   "outputs": [
    {
     "name": "stdout",
     "output_type": "stream",
     "text": [
      "+------+------+-----------------+-----------------+\n",
      "|MinAge|MaxAge|        StdDevAge|           AvgAge|\n",
      "+------+------+-----------------+-----------------+\n",
      "|    18|    60|9.327671831348484|36.85227272727273|\n",
      "+------+------+-----------------+-----------------+\n",
      "\n",
      "+--------------------+----------------+-----+\n",
      "|          Department|  EducationField|count|\n",
      "+--------------------+----------------+-----+\n",
      "|     Human Resources|Technical Degree|    3|\n",
      "|     Human Resources| Human Resources|    8|\n",
      "|     Human Resources|         Medical|    2|\n",
      "|     Human Resources|   Life Sciences|    4|\n",
      "|Research & Develo...|           Other|   19|\n",
      "|Research & Develo...|Technical Degree|   26|\n",
      "|Research & Develo...|   Life Sciences|  138|\n",
      "|Research & Develo...|         Medical|   93|\n",
      "|               Sales|Technical Degree|   15|\n",
      "|               Sales|         Medical|   26|\n",
      "|               Sales|       Marketing|   45|\n",
      "|               Sales|   Life Sciences|   59|\n",
      "|               Sales|           Other|    2|\n",
      "+--------------------+----------------+-----+\n",
      "\n"
     ]
    }
   ],
   "source": [
    "aggregations = [\n",
    "    F.min(\"Age\").alias(\"MinAge\"),\n",
    "    F.max(\"Age\").alias(\"MaxAge\"),\n",
    "    F.stddev(\"Age\").alias(\"StdDevAge\"),\n",
    "    F.avg(\"Age\").alias(\"AvgAge\"),\n",
    "]\n",
    "\n",
    "df.agg(*aggregations).show()\n",
    "\n",
    "\n",
    "df.groupBy(\"Department\",\"EducationField\").count().orderBy(\"Department\").show()"
   ]
  },
  {
   "attachments": {},
   "cell_type": "markdown",
   "metadata": {},
   "source": [
    "# Selecting data from dataframe"
   ]
  },
  {
   "cell_type": "code",
   "execution_count": 354,
   "metadata": {},
   "outputs": [
    {
     "name": "stdout",
     "output_type": "stream",
     "text": [
      "+--------------------+----------------+----------------+----------------+------------------+\n",
      "|          Department|  EducationField|MinMonthlyIncome|MaxMonthlyIncome| AvgAMonthlyIncome|\n",
      "+--------------------+----------------+----------------+----------------+------------------+\n",
      "|     Human Resources| Human Resources|            2187|           19141|          8044.125|\n",
      "|     Human Resources|   Life Sciences|            2064|           14026|           5443.25|\n",
      "|     Human Resources|         Medical|            2267|           10725|            6496.0|\n",
      "|     Human Resources|Technical Degree|            2564|            4323|3194.3333333333335|\n",
      "|Research & Develo...|   Life Sciences|            1393|           19740| 6095.442028985507|\n",
      "|Research & Develo...|         Medical|            1706|           19701| 6803.193548387097|\n",
      "|Research & Develo...|           Other|            2544|           19202| 6762.315789473684|\n",
      "|Research & Develo...|Technical Degree|            1274|           19232| 5078.346153846154|\n",
      "|               Sales|   Life Sciences|            2220|           19847|7583.5084745762715|\n",
      "|               Sales|       Marketing|            1790|           19845| 7485.666666666667|\n",
      "|               Sales|         Medical|            1081|           19517| 6519.307692307692|\n",
      "|               Sales|           Other|            2121|            8412|            5266.5|\n",
      "|               Sales|Technical Degree|            2086|           16872|            6440.0|\n",
      "+--------------------+----------------+----------------+----------------+------------------+\n",
      "\n"
     ]
    }
   ],
   "source": [
    "# using sql to query dataframe\n",
    "df.createOrReplaceTempView(\"sample_df_view\")\n",
    "\n",
    "sqlquery = \"\"\"\n",
    "SELECT\n",
    "    DISTINCT Department, EducationField,\n",
    "    MIN(MonthlyIncome) OVER (PARTITION BY Department, EducationField) AS MinMonthlyIncome,\n",
    "    MAX(MonthlyIncome) OVER (PARTITION BY Department, EducationField) AS MaxMonthlyIncome,\n",
    "    AVG(MonthlyIncome) OVER (PARTITION BY Department, EducationField) AS AvgAMonthlyIncome\n",
    "FROM sample_df_view\n",
    "ORDER BY Department , EducationField\n",
    "\"\"\"\n",
    "spark.sql(sqlquery).show()"
   ]
  },
  {
   "cell_type": "code",
   "execution_count": 356,
   "metadata": {},
   "outputs": [
    {
     "name": "stdout",
     "output_type": "stream",
     "text": [
      "+--------------------+-------------+\n",
      "|          Department|MaritalStatus|\n",
      "+--------------------+-------------+\n",
      "|     Human Resources|     Divorced|\n",
      "|     Human Resources|      Married|\n",
      "|     Human Resources|       Single|\n",
      "|Research & Develo...|     Divorced|\n",
      "|Research & Develo...|      Married|\n",
      "|Research & Develo...|       Single|\n",
      "|               Sales|     Divorced|\n",
      "|               Sales|      Married|\n",
      "|               Sales|       Single|\n",
      "+--------------------+-------------+\n",
      "\n"
     ]
    }
   ],
   "source": [
    "# use select or drop to remove columns\n",
    "# removing duplicates from dataframe with distinct\n",
    "df.select(\"Department\",\"MaritalStatus\").distinct()\\\n",
    "    .orderBy(\"Department\",\"MaritalStatus\").show()"
   ]
  },
  {
   "attachments": {},
   "cell_type": "markdown",
   "metadata": {},
   "source": [
    "# joining two dataframes"
   ]
  },
  {
   "cell_type": "code",
   "execution_count": 264,
   "metadata": {},
   "outputs": [
    {
     "name": "stdout",
     "output_type": "stream",
     "text": [
      "+---------+---+---------+--------------------+----------------+----------------+-----------------------+---------------+-------------+-------------+------------------+---------------+--------------+---------+\n",
      "|Education|Age|Attrition|          Department|DistanceFromHome|  EducationField|EnvironmentSatisfaction|JobSatisfaction|MaritalStatus|MonthlyIncome|NumCompaniesWorked|WorkLifeBalance|YearsAtCompany|     Desc|\n",
      "+---------+---+---------+--------------------+----------------+----------------+-----------------------+---------------+-------------+-------------+------------------+---------------+--------------+---------+\n",
      "|        1| 31|       No|Research & Develo...|              26|   Life Sciences|                      1|              3|     Divorced|         2911|                 1|              2|             5|  Primary|\n",
      "|        1| 32|      Yes|Research & Develo...|              16|   Life Sciences|                      2|              1|       Single|         3919|                 1|              3|            10|  Primary|\n",
      "|        3| 39|      Yes|               Sales|               5|Technical Degree|                      4|              4|      Married|         2086|                 3|              4|             1| Tertiary|\n",
      "|        3| 33|       No|               Sales|               1|   Life Sciences|                      3|              1|      Married|         5376|                 2|              3|             5| Tertiary|\n",
      "|        2| 24|       No|Research & Develo...|              11|           Other|                      1|              3|     Divorced|         4011|                 0|              2|             4|Secondary|\n",
      "+---------+---+---------+--------------------+----------------+----------------+-----------------------+---------------+-------------+-------------+------------------+---------------+--------------+---------+\n",
      "only showing top 5 rows\n",
      "\n"
     ]
    }
   ],
   "source": [
    "education = spark.createDataFrame(\n",
    "    sc.parallelize([\n",
    "        (1, \"Primary\"),\n",
    "        (2, \"Secondary\"),\n",
    "        (3, \"Tertiary\"),\n",
    "        (4, \"PostGraduate\"),\n",
    "        (5, \"Doctorate\")\n",
    "        ]),\n",
    "    schema=[\"Education\", \"Desc\"])\n",
    "\n",
    "df.join(education, \n",
    "        on = [\"Education\"],\n",
    "        how =\"left\").show(5)"
   ]
  },
  {
   "attachments": {},
   "cell_type": "markdown",
   "metadata": {},
   "source": [
    "# Renaming columns"
   ]
  },
  {
   "cell_type": "code",
   "execution_count": 328,
   "metadata": {},
   "outputs": [
    {
     "name": "stdout",
     "output_type": "stream",
     "text": [
      "+------+----------------+\n",
      "|NewAge|NewMonthlyIncome|\n",
      "+------+----------------+\n",
      "|    38|            2406|\n",
      "|    59|            5473|\n",
      "|    32|            6220|\n",
      "+------+----------------+\n",
      "only showing top 3 rows\n",
      "\n",
      "+------+---------+--------------------+----------------+---------+--------------+-----------------------+---------------+-------------+----------------+------------------+---------------+--------------+\n",
      "|NewAge|Attrition|          Department|DistanceFromHome|Education|EducationField|EnvironmentSatisfaction|JobSatisfaction|MaritalStatus|NewMonthlyIncome|NumCompaniesWorked|WorkLifeBalance|YearsAtCompany|\n",
      "+------+---------+--------------------+----------------+---------+--------------+-----------------------+---------------+-------------+----------------+------------------+---------------+--------------+\n",
      "|    38|       No|Research & Develo...|              29|        5| Life Sciences|                      4|              4|       Single|            2406|                 1|              3|            10|\n",
      "|    59|       No|               Sales|               1|        1| Life Sciences|                      1|              3|       Single|            5473|                 7|              2|             4|\n",
      "|    32|       No|Research & Develo...|               1|        3| Life Sciences|                      2|              2|      Married|            6220|                 1|              3|            10|\n",
      "+------+---------+--------------------+----------------+---------+--------------+-----------------------+---------------+-------------+----------------+------------------+---------------+--------------+\n",
      "only showing top 3 rows\n",
      "\n"
     ]
    }
   ],
   "source": [
    "# using select + functions.col and alias\n",
    "df.select(\n",
    "    F.col(\"Age\").alias(\"NewAge\"),\n",
    "    F.col(\"MonthlyIncome\").alias(\"NewMonthlyIncome\")).show(3)\n",
    "\n",
    "# using withColumnRenamed\n",
    "df.withColumnRenamed(\"Age\",\"NewAge\").withColumnRenamed(\"MonthlyIncome\",\"NewMonthlyIncome\").show(3)"
   ]
  },
  {
   "attachments": {},
   "cell_type": "markdown",
   "metadata": {},
   "source": [
    "# filtering data"
   ]
  },
  {
   "cell_type": "code",
   "execution_count": 344,
   "metadata": {},
   "outputs": [
    {
     "name": "stdout",
     "output_type": "stream",
     "text": [
      "+---+---------+---------------+----------------+---------+---------------+-----------------------+---------------+-------------+-------------+------------------+---------------+--------------+\n",
      "|Age|Attrition|     Department|DistanceFromHome|Education| EducationField|EnvironmentSatisfaction|JobSatisfaction|MaritalStatus|MonthlyIncome|NumCompaniesWorked|WorkLifeBalance|YearsAtCompany|\n",
      "+---+---------+---------------+----------------+---------+---------------+-----------------------+---------------+-------------+-------------+------------------+---------------+--------------+\n",
      "| 55|       No|          Sales|               1|        2|  Life Sciences|                      1|              4|      Married|        10239|                 3|              3|             1|\n",
      "| 59|       No|Human Resources|               2|        4|Human Resources|                      3|              4|      Married|        18844|                 9|              3|             3|\n",
      "+---+---------+---------------+----------------+---------+---------------+-----------------------+---------------+-------------+-------------+------------------+---------------+--------------+\n",
      "only showing top 2 rows\n",
      "\n",
      "+---+---------+----------+----------------+---------+--------------+-----------------------+---------------+-------------+-------------+------------------+---------------+--------------+\n",
      "|Age|Attrition|Department|DistanceFromHome|Education|EducationField|EnvironmentSatisfaction|JobSatisfaction|MaritalStatus|MonthlyIncome|NumCompaniesWorked|WorkLifeBalance|YearsAtCompany|\n",
      "+---+---------+----------+----------------+---------+--------------+-----------------------+---------------+-------------+-------------+------------------+---------------+--------------+\n",
      "| 59|       No|     Sales|               1|        1| Life Sciences|                      1|              3|       Single|         5473|                 7|              2|             4|\n",
      "| 55|       No|     Sales|               1|        2| Life Sciences|                      1|              4|      Married|        10239|                 3|              3|             1|\n",
      "+---+---------+----------+----------------+---------+--------------+-----------------------+---------------+-------------+-------------+------------------+---------------+--------------+\n",
      "only showing top 2 rows\n",
      "\n"
     ]
    }
   ],
   "source": [
    "# using where\n",
    "df.where((F.col(\"Age\") > 40) & (F.col(\"MonthlyIncome\")>10000)).show(2)\n",
    "\n",
    "#using filter with SQL expression\n",
    "df.filter('Department IN (\"Sales\",\"Human Resources\")').show(2)"
   ]
  },
  {
   "attachments": {},
   "cell_type": "markdown",
   "metadata": {},
   "source": [
    "# Transforming data"
   ]
  },
  {
   "cell_type": "code",
   "execution_count": 420,
   "metadata": {},
   "outputs": [],
   "source": [
    "sqlquery = \"\"\"\n",
    "SELECT\n",
    "    *,\n",
    "    AVG(MonthlyIncome) OVER (PARTITION BY Department, EducationField, Education) AS AverageSalary\n",
    "FROM sample_df_view\n",
    "ORDER BY Department, EducationField, Education\n",
    "\"\"\"\n",
    "average_salary = spark.sql(sqlquery)#.show(5)\n",
    "\n",
    "# addong new columns\n",
    "# average_salary.withColumn(\"test\", F.col(\"MonthlyIncome\") / 10).show(2)"
   ]
  },
  {
   "cell_type": "code",
   "execution_count": 430,
   "metadata": {},
   "outputs": [
    {
     "name": "stdout",
     "output_type": "stream",
     "text": [
      "+-------------+-------------+\n",
      "|MonthlyIncome|AverageSalary|\n",
      "+-------------+-------------+\n",
      "|         2406|        240.6|\n",
      "|         5473|        547.3|\n",
      "|         6220|        622.0|\n",
      "|        10239|       1023.9|\n",
      "|         4325|        432.5|\n",
      "+-------------+-------------+\n",
      "only showing top 5 rows\n",
      "\n"
     ]
    }
   ],
   "source": [
    "# registering function with spark sql\n",
    "spark.udf.register(\"my_udf\", lambda x: x / 10, types.DoubleType())\n",
    "\n",
    "#testing the function\n",
    "sqlquery = \"\"\"\n",
    "SELECT\n",
    "    MonthlyIncome,\n",
    "    my_udf(MonthlyIncome)  AS AverageSalary\n",
    "FROM sample_df_view\n",
    "LIMIT 10\n",
    "\"\"\"\n",
    "average_salary = spark.sql(sqlquery).show(5)"
   ]
  },
  {
   "attachments": {},
   "cell_type": "markdown",
   "metadata": {},
   "source": [
    "# repartitioning and saving data from dataframe to file"
   ]
  },
  {
   "cell_type": "code",
   "execution_count": 426,
   "metadata": {},
   "outputs": [],
   "source": [
    "average_salary = average_salary.rdd.repartition(4).toDF()\n",
    "average_salary.write.mode('overwrite').csv(\"data/average_salary.csv\", header=True)\n",
    "\n",
    "\n",
    "# rdd.getNumPartitions() # num of partitions\n",
    "# rdd.repartition(8) # change num of partitions\n",
    "# rdd.coalesce(1) # change num of partitions without shuffling"
   ]
  },
  {
   "cell_type": "code",
   "execution_count": null,
   "metadata": {},
   "outputs": [],
   "source": [
    "spark.stop()"
   ]
  },
  {
   "cell_type": "code",
   "execution_count": 398,
   "metadata": {},
   "outputs": [],
   "source": []
  },
  {
   "cell_type": "code",
   "execution_count": 428,
   "metadata": {},
   "outputs": [],
   "source": [
    "# %%sh\n",
    "# git add .\n",
    "# git commit -m \"update\"\n",
    "# git push"
   ]
  },
  {
   "cell_type": "code",
   "execution_count": 183,
   "metadata": {},
   "outputs": [],
   "source": []
  }
 ],
 "metadata": {
  "kernelspec": {
   "display_name": "bigdata",
   "language": "python",
   "name": "python3"
  },
  "language_info": {
   "codemirror_mode": {
    "name": "ipython",
    "version": 3
   },
   "file_extension": ".py",
   "mimetype": "text/x-python",
   "name": "python",
   "nbconvert_exporter": "python",
   "pygments_lexer": "ipython3",
   "version": "3.9.16"
  },
  "orig_nbformat": 4
 },
 "nbformat": 4,
 "nbformat_minor": 2
}
