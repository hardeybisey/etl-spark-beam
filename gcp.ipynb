{
 "cells": [
  {
   "cell_type": "code",
   "execution_count": null,
   "metadata": {},
   "outputs": [],
   "source": [
    "# https://jsonplaceholder.typicode.com/\n",
    "# activate service account api\n",
    "gcloud services enable dataflow.googleapis.com\n",
    "# create cloud storage bucket\n",
    "gsutil mb  gs://$PROJECTID\n",
    "# create cloud storage bucket with location flag\n",
    "gsutil mb -l us gs://qwiklabs-gcp-04-bad8daf3b464-us\n",
    "gsutil mb -l eu gs://qwiklabs-gcp-04-bad8daf3b464-eu\n",
    "# create dataset in bigquery\n",
    "bq mk --dataset $PROJECTID:DATASETID\n",
    "# create dataset in bigquery with location flag\n",
    "bq mk --location=EU --dataset qwiklabs-gcp-04-bad8daf3b464:nyc_tlc_EU\n",
    "# create table in bigquery\n",
    "bq mk --table $PROJECTID:DATASETID.TABLEID ./schema.json\n",
    "# clone bq table\n",
    "bq cp --clone -n DATASETID.TABLEID DATASETID.NEWTABLEID"
   ]
  },
  {
   "cell_type": "code",
   "execution_count": null,
   "metadata": {},
   "outputs": [],
   "source": [
    "gcloud composer environments run composer-advanced-lab \\\n",
    "--location us-east1 variables -- \\\n",
    "set table_list_file_path /home/airflow/gcs/dags/bq_copy_eu_to_us_sample.csv\n",
    "\n",
    "\n",
    "# create vertex ai custom training service account\n",
    "SERVICE_ACCOUNT_ID=vertex-custom-training-sa\n",
    "gcloud iam service-accounts create $SERVICE_ACCOUNT_ID  \\\n",
    "    --description=\"A custom service account for Vertex custom training with Tensorboard\" \\\n",
    "    --display-name=\"Vertex AI Custom Training\"\n",
    "    \n",
    "    \n",
    "# grant service account access to storage\n",
    "PROJECT_ID=$(gcloud config get-value core/project)\n",
    "gcloud projects add-iam-policy-binding $PROJECT_ID \\\n",
    "    --member=serviceAccount:$SERVICE_ACCOUNT_ID@$PROJECT_ID.iam.gserviceaccount.com \\\n",
    "    --role=\"roles/storage.admin\"\n",
    "    \n",
    "# grant service account access to bigquery\n",
    "gcloud projects add-iam-policy-binding $PROJECT_ID \\\n",
    "    --member=serviceAccount:$SERVICE_ACCOUNT_ID@$PROJECT_ID.iam.gserviceaccount.com \\\n",
    "    --role=\"roles/bigquery.admin\"\n",
    "    \n",
    "# grant service account access to vertex ai for model training and deployment\n",
    "gcloud projects add-iam-policy-binding $PROJECT_ID \\\n",
    "    --member=serviceAccount:$SERVICE_ACCOUNT_ID@$PROJECT_ID.iam.gserviceaccount.com \\\n",
    "    --role=\"roles/aiplatform.user\""
   ]
  }
 ],
 "metadata": {
  "kernelspec": {
   "display_name": "bigdata",
   "language": "python",
   "name": "python3"
  },
  "language_info": {
   "name": "python",
   "version": "3.9.16"
  },
  "orig_nbformat": 4
 },
 "nbformat": 4,
 "nbformat_minor": 2
}
