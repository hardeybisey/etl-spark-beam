{
 "cells": [
  {
   "cell_type": "code",
   "execution_count": null,
   "metadata": {},
   "outputs": [],
   "source": [
    "# # start dataflow job\n",
    "# python dataflow_python_examples/data_transformation.py \\\n",
    "#   --project=$PROJECT \\\n",
    "#   --region=us-east5 \\\n",
    "#   --runner=DataflowRunner \\\n",
    "#   --staging_location=gs://$PROJECT/test \\\n",
    "#   --temp_location gs://$PROJECT/test \\\n",
    "#   --input gs://$PROJECT/data_files/head_usa_names.csv \\\n",
    "#   --save_main_session"
   ]
  },
  {
   "cell_type": "code",
   "execution_count": 3,
   "metadata": {},
   "outputs": [],
   "source": [
    "# !pip install \"apache-beam[interactive]\""
   ]
  },
  {
   "cell_type": "code",
   "execution_count": 5,
   "metadata": {},
   "outputs": [],
   "source": [
    "import apache_beam as beam\n",
    "from apache_beam.runners.interactive import interactive_beam as ib\n",
    "from apache_beam.options.pipeline_options import PipelineOptions"
   ]
  },
  {
   "cell_type": "code",
   "execution_count": 208,
   "metadata": {},
   "outputs": [],
   "source": [
    "# customizing pipeline options\n",
    "class Myoptions(PipelineOptions):\n",
    "    @classmethod\n",
    "    def _add_argparse_args(cls, parser):\n",
    "        parser.add_argument(\n",
    "            '--input', \n",
    "            help='Input for the pipeline', \n",
    "            default='gs://dataflow-samples/shakespeare/kinglear.txt')\n",
    "        \n",
    "        parser.add_argument(\n",
    "            '--output',\n",
    "            help='Output for the pipeline',\n",
    "            default='gs://$PROJECT/output/')"
   ]
  },
  {
   "attachments": {},
   "cell_type": "markdown",
   "metadata": {},
   "source": [
    "# beam.Row and infering schema"
   ]
  },
  {
   "cell_type": "code",
   "execution_count": 14,
   "metadata": {},
   "outputs": [
    {
     "name": "stdout",
     "output_type": "stream",
     "text": [
      "Row(bank='Wells Fargo', purchase_amount=103.3)\n"
     ]
    },
    {
     "data": {
      "text/plain": [
       "<apache_beam.runners.portability.fn_api_runner.fn_runner.RunnerResult at 0x7fe212ecaeb0>"
      ]
     },
     "execution_count": 14,
     "metadata": {},
     "output_type": "execute_result"
    }
   ],
   "source": [
    "import typing\n",
    "\n",
    "class Transaction(typing.NamedTuple):\n",
    "    bank: str\n",
    "    purchase_amount: float\n",
    "\n",
    "p = beam.Pipeline()\n",
    "output = (\n",
    "          p\n",
    "          | beam.Create([{\"bank\": \"Wells Fargo\", \"purchase_amount\": 103.30}])\n",
    "          | beam.Map(lambda item : beam.Row(bank=item[\"bank\"], purchase_amount = item[\"purchase_amount\"])).with_output_types(Transaction)\n",
    "          | beam.Map(print)\n",
    "        )\n",
    "\n",
    "p.run()"
   ]
  },
  {
   "attachments": {},
   "cell_type": "markdown",
   "metadata": {},
   "source": [
    "# beam.Select and infering schema"
   ]
  },
  {
   "cell_type": "code",
   "execution_count": 15,
   "metadata": {},
   "outputs": [
    {
     "name": "stdout",
     "output_type": "stream",
     "text": [
      "Row(bank='Wells Fargo', purchase_amount=103.3)\n"
     ]
    },
    {
     "data": {
      "text/plain": [
       "<apache_beam.runners.portability.fn_api_runner.fn_runner.RunnerResult at 0x7fe212b5e7f0>"
      ]
     },
     "execution_count": 15,
     "metadata": {},
     "output_type": "execute_result"
    }
   ],
   "source": [
    "p = beam.Pipeline()\n",
    "\n",
    "output = (\n",
    "          p\n",
    "          | beam.Create([{\"bank\": \"Wells Fargo\", \"purchase_amount\": 103.30}])\n",
    "          | beam.Select(bank = lambda item: item[\"bank\"], purchase_amount = lambda item: item[\"purchase_amount\"]).with_output_types(Transaction)\n",
    "          | beam.Map(print)\n",
    "        )\n",
    "\n",
    "p.run()"
   ]
  },
  {
   "attachments": {},
   "cell_type": "markdown",
   "metadata": {},
   "source": [
    "# creating a DoFn"
   ]
  },
  {
   "cell_type": "code",
   "execution_count": 367,
   "metadata": {},
   "outputs": [
    {
     "name": "stdout",
     "output_type": "stream",
     "text": [
      "3\n",
      "2\n",
      "3\n",
      "3\n",
      "4\n",
      "3\n",
      "4\n"
     ]
    },
    {
     "data": {
      "text/plain": [
       "<apache_beam.runners.portability.fn_api_runner.fn_runner.RunnerResult at 0x7fa29434e070>"
      ]
     },
     "execution_count": 367,
     "metadata": {},
     "output_type": "execute_result"
    }
   ],
   "source": [
    "class ComputeWordLength(beam.DoFn):\n",
    "    def process(self, element):\n",
    "        return [len(element)]\n",
    "    \n",
    "p = beam.Pipeline()\n",
    "# creating Pcollection from data in memory\n",
    "words = beam.Create('who is the man from the moon'.split())\n",
    "wordlengths = p | words | beam.ParDo(ComputeWordLength()) | beam.Map(print)\n",
    "p.run()"
   ]
  },
  {
   "attachments": {},
   "cell_type": "markdown",
   "metadata": {},
   "source": [
    "# passing side inputs to ParDo"
   ]
  },
  {
   "cell_type": "code",
   "execution_count": 421,
   "metadata": {},
   "outputs": [],
   "source": [
    "text = \"\"\"\n",
    "Lorem ipsum dolor sit amet consectetur adipisicing elit. Quisquam vitae unde voluptatibus dolores perspiciatis, quis amet eveniet aperiam atque placeat laborum? Consequuntur illo accusamus, praesentium doloremque eaque recusandae earum perspiciatis!.\"\"\"\n",
    "\n",
    "p = beam.Pipeline()\n",
    "\n",
    "words = p | beam.Create(text.split())\n",
    "\n",
    "def filter_using_length(word, lower_bound, upper_bound=float('inf')):\n",
    "    if lower_bound <= len(word) <= upper_bound:\n",
    "        yield word\n",
    "\n",
    "average_word_len = (\n",
    "    words\n",
    "    | beam.Map(len)\n",
    "    | beam.CombineGlobally(beam.combiners.MeanCombineFn()))\n",
    "\n",
    "small_words = words | \"small words\" >> beam.FlatMap(filter_using_length, lower_bound=1, upper_bound=3)\n",
    "larger_words = words | \"large words\" >> beam.FlatMap(filter_using_length, lower_bound= beam.pvalue.AsSingleton(average_word_len))\n",
    "p.run()"
   ]
  },
  {
   "attachments": {},
   "cell_type": "markdown",
   "metadata": {},
   "source": [
    "# tagging multiple outputs"
   ]
  },
  {
   "cell_type": "code",
   "execution_count": 436,
   "metadata": {},
   "outputs": [
    {
     "data": {
      "text/plain": [
       "<apache_beam.runners.portability.fn_api_runner.fn_runner.RunnerResult at 0x7fa297107310>"
      ]
     },
     "execution_count": 436,
     "metadata": {},
     "output_type": "execute_result"
    }
   ],
   "source": [
    "p = beam.Pipeline()\n",
    "numbers = p | beam.Create([1,2,3,4,5,6,7,8,9,10])\n",
    "\n",
    "def even_odd_filter(x):\n",
    "    yield beam.pvalue.TaggedOutput('odd' if x % 2 else 'even', x)\n",
    "    if x % 10 == 0:\n",
    "        yield x\n",
    "\n",
    "results = numbers | beam.FlatMap(even_odd_filter).with_outputs()#('odd', 'even')\n",
    "p.run()"
   ]
  },
  {
   "attachments": {},
   "cell_type": "markdown",
   "metadata": {},
   "source": [
    "# creating composite transforms"
   ]
  },
  {
   "cell_type": "code",
   "execution_count": 441,
   "metadata": {},
   "outputs": [],
   "source": [
    "class ComputeWordLength(beam.PTransform):\n",
    "    def expand(self, pcoll):\n",
    "        return pcoll | beam.Map(lambda x: len(x))\n",
    "    \n",
    "    p = beam.Pipeline()"
   ]
  },
  {
   "attachments": {},
   "cell_type": "markdown",
   "metadata": {},
   "source": [
    "# Creating a CombineFn"
   ]
  },
  {
   "cell_type": "code",
   "execution_count": 369,
   "metadata": {},
   "outputs": [
    {
     "name": "stdout",
     "output_type": "stream",
     "text": [
      "15\n"
     ]
    },
    {
     "data": {
      "text/plain": [
       "<apache_beam.runners.portability.fn_api_runner.fn_runner.RunnerResult at 0x7fa2c2c13220>"
      ]
     },
     "execution_count": 369,
     "metadata": {},
     "output_type": "execute_result"
    }
   ],
   "source": [
    "class ComputeAverag(beam.CombineFn):\n",
    "    def create_accumulator(self):\n",
    "        return (0.0, 0)\n",
    "    \n",
    "    def add_input(self, sum_count, input):\n",
    "        (sum, count) = sum_count\n",
    "        return sum + input, count + 1\n",
    "    \n",
    "    def merge_accumulators(self, accumulators):\n",
    "        sums, counts = zip(*accumulators)\n",
    "        return sum(sums), sum(counts)\n",
    "    \n",
    "    def extract_output(self, sum_count):\n",
    "        (sum, count) = sum_count\n",
    "        return sum/count if count else float('NaN')\n",
    "\n",
    "p = beam.Pipeline()\n",
    "# creating Pcollection from data in memory\n",
    "pcoll = beam.Create([1, 2, 3, 4, 5])\n",
    "average = p | pcoll | beam.CombineGlobally(ComputeAverag()) | beam.Map(print)\n",
    "p.run()"
   ]
  },
  {
   "cell_type": "code",
   "execution_count": 19,
   "metadata": {},
   "outputs": [
    {
     "name": "stdout",
     "output_type": "stream",
     "text": [
      "('amy', {'emails': ['amy@example.com'], 'phones': ['111-222-3333', '333-444-5555']})\n",
      "('james', {'emails': [], 'phones': ['222-333-4444']})\n",
      "('carl', {'emails': ['carl@example.com', 'carl@email.com'], 'phones': ['444-555-6666']})\n",
      "('julia', {'emails': ['julia@example.com'], 'phones': []})\n"
     ]
    },
    {
     "data": {
      "text/plain": [
       "<apache_beam.runners.portability.fn_api_runner.fn_runner.RunnerResult at 0x7fe1f373db20>"
      ]
     },
     "execution_count": 19,
     "metadata": {},
     "output_type": "execute_result"
    }
   ],
   "source": [
    "p = beam.Pipeline()\n",
    "\n",
    "emails_list = [\n",
    "    ('amy', 'amy@example.com'),\n",
    "    ('carl', 'carl@example.com'),\n",
    "    ('julia', 'julia@example.com'),\n",
    "    ('carl', 'carl@email.com'),\n",
    "]\n",
    "phones_list = [\n",
    "    ('amy', '111-222-3333'),\n",
    "    ('james', '222-333-4444'),\n",
    "    ('amy', '333-444-5555'),\n",
    "    ('carl', '444-555-6666'),\n",
    "]\n",
    "\n",
    "emails = p | 'CreateEmails' >> beam.Create(emails_list)\n",
    "phones = p | 'CreatePhones' >> beam.Create(phones_list)\n",
    "\n",
    "results = ({'emails': emails, 'phones': phones} | beam.CoGroupByKey()) | beam.Map(print)\n",
    "p.run()"
   ]
  },
  {
   "cell_type": "code",
   "execution_count": 487,
   "metadata": {},
   "outputs": [
    {
     "name": "stdout",
     "output_type": "stream",
     "text": [
      "('41', 6)\n",
      "('Yes', 237)\n",
      "('Sales', 92)\n",
      "('1', 377)\n",
      "('2', 262)\n",
      "('Life Sciences', 89)\n",
      "('4', 242)\n",
      "('Single', 120)\n",
      "('5993', 1)\n",
      "('8', 25)\n",
      "('6', 32)\n",
      "('37', 6)\n",
      "('Research & Development', 133)\n",
      "('Other', 11)\n",
      "('3', 411)\n",
      "('2090', 1)\n",
      "('0', 39)\n",
      "('28', 16)\n",
      "('24', 20)\n",
      "('2028', 1)\n",
      "('5', 52)\n",
      "('36', 6)\n",
      "('9', 38)\n",
      "('3407', 1)\n",
      "('7', 39)\n",
      "('34', 9)\n",
      "('Medical', 63)\n",
      "('2960', 1)\n",
      "('32', 12)\n",
      "('16', 8)\n",
      "('3919', 1)\n",
      "('10', 29)\n",
      "('39', 6)\n",
      "('Technical Degree', 32)\n",
      "('Married', 84)\n",
      "('2086', 1)\n",
      "('2293', 2)\n",
      "('50', 5)\n",
      "('Marketing', 35)\n",
      "('2683', 1)\n",
      "('26', 15)\n",
      "('25', 12)\n",
      "('12', 6)\n",
      "('19545', 1)\n",
      "('22', 12)\n",
      "('48', 2)\n",
      "('5381', 1)\n",
      "('3441', 1)\n",
      "('3388', 1)\n",
      "('46', 4)\n",
      "('9619', 1)\n",
      "('Human Resources', 19)\n",
      "('Divorced', 33)\n",
      "('2073', 1)\n",
      "('20', 11)\n",
      "('2926', 1)\n",
      "('5744', 1)\n",
      "('6074', 1)\n",
      "('56', 3)\n",
      "('14', 6)\n",
      "('4963', 1)\n",
      "('31', 19)\n",
      "('6172', 1)\n",
      "('58', 5)\n",
      "('23', 10)\n",
      "('10312', 1)\n",
      "('40', 6)\n",
      "('19', 10)\n",
      "('1675', 1)\n",
      "('4559', 1)\n",
      "('51', 2)\n",
      "('10650', 1)\n",
      "('4200', 1)\n",
      "('2325', 1)\n",
      "('1102', 1)\n",
      "('3140', 1)\n",
      "('35', 10)\n",
      "('5916', 1)\n",
      "('38', 2)\n",
      "('29', 23)\n",
      "('6673', 1)\n",
      "('27', 6)\n",
      "('7639', 1)\n",
      "('10400', 1)\n",
      "('30', 9)\n",
      "('2657', 1)\n",
      "('6696', 1)\n",
      "('2058', 1)\n",
      "('18', 9)\n",
      "('2389', 1)\n",
      "('33', 13)\n",
      "('2436', 1)\n",
      "('2707', 1)\n",
      "('3730', 1)\n",
      "('10048', 1)\n",
      "('3479', 1)\n",
      "('3485', 1)\n",
      "('47', 3)\n",
      "('11849', 1)\n",
      "('44', 6)\n",
      "('3161', 1)\n",
      "('2373', 1)\n",
      "('5828', 1)\n",
      "('1420', 1)\n",
      "('52', 3)\n",
      "('4941', 1)\n",
      "('3464', 1)\n",
      "('5238', 1)\n",
      "('2119', 1)\n",
      "('21', 10)\n",
      "('2174', 1)\n",
      "('2851', 1)\n",
      "('9355', 1)\n",
      "('6380', 1)\n",
      "('2716', 1)\n",
      "('5304', 1)\n",
      "('3102', 1)\n",
      "('2285', 1)\n",
      "('4031', 1)\n",
      "('3202', 1)\n",
      "('2351', 1)\n",
      "('2546', 1)\n",
      "('2564', 1)\n",
      "('15', 6)\n",
      "('13610', 1)\n",
      "('3408', 1)\n",
      "('9824', 1)\n",
      "('9950', 1)\n",
      "('3894', 1)\n",
      "('17', 6)\n",
      "('2741', 1)\n",
      "('1878', 1)\n",
      "('2340', 1)\n",
      "('11', 6)\n",
      "('4707', 1)\n",
      "('2886', 1)\n",
      "('2033', 1)\n",
      "('13', 8)\n",
      "('4233', 1)\n",
      "('3041', 1)\n",
      "('45', 2)\n",
      "('4286', 1)\n",
      "('1009', 1)\n",
      "('3348', 1)\n",
      "('4577', 1)\n",
      "('6796', 1)\n",
      "('2216', 1)\n",
      "('42', 2)\n",
      "('2759', 1)\n",
      "('2686', 1)\n",
      "('6397', 1)\n",
      "('55', 3)\n",
      "('19859', 1)\n",
      "('5326', 1)\n",
      "('1601', 1)\n",
      "('2319', 1)\n",
      "('5324', 1)\n",
      "('19246', 1)\n",
      "('4382', 1)\n",
      "('49', 2)\n",
      "('7654', 1)\n",
      "('5160', 1)\n",
      "('2366', 1)\n",
      "('2022', 1)\n",
      "('2800', 1)\n",
      "('2795', 1)\n",
      "('2380', 1)\n",
      "('2044', 1)\n",
      "('2693', 1)\n",
      "('4171', 1)\n",
      "('2778', 1)\n",
      "('2404', 2)\n",
      "('2413', 1)\n",
      "('2121', 1)\n",
      "('2973', 1)\n",
      "('10325', 1)\n",
      "('10609', 1)\n",
      "('2479', 1)\n",
      "('13194', 1)\n",
      "('2321', 1)\n",
      "('2132', 1)\n",
      "('3743', 1)\n",
      "('2600', 1)\n",
      "('2422', 1)\n",
      "('4777', 1)\n",
      "('4969', 1)\n",
      "('19845', 1)\n",
      "('2743', 1)\n",
      "('4834', 1)\n",
      "('2042', 1)\n",
      "('2323', 1)\n",
      "('1416', 1)\n",
      "('2461', 1)\n",
      "('8722', 1)\n",
      "('10482', 1)\n",
      "('9582', 1)\n",
      "('4508', 1)\n",
      "('3691', 1)\n",
      "('2377', 1)\n",
      "('2313', 1)\n",
      "('2596', 1)\n",
      "('4728', 1)\n",
      "('12169', 1)\n",
      "('1904', 1)\n",
      "('8224', 1)\n",
      "('2610', 1)\n",
      "('7336', 1)\n",
      "('13758', 1)\n",
      "('2515', 1)\n",
      "('43', 2)\n",
      "('5346', 2)\n",
      "('2936', 1)\n",
      "('2853', 1)\n",
      "('2107', 1)\n",
      "('2210', 1)\n",
      "('1859', 1)\n",
      "('1118', 1)\n",
      "('18824', 1)\n",
      "('2625', 1)\n",
      "('7978', 1)\n",
      "('3339', 1)\n",
      "('4883', 1)\n",
      "('3904', 1)\n",
      "('9094', 1)\n",
      "('8446', 1)\n",
      "('2302', 1)\n",
      "('2362', 2)\n",
      "('10008', 1)\n",
      "('13695', 1)\n",
      "('2785', 1)\n",
      "('4614', 1)\n",
      "('6179', 1)\n",
      "('2394', 1)\n",
      "('4284', 1)\n",
      "('7553', 1)\n",
      "('1359', 1)\n",
      "('1261', 1)\n",
      "('4400', 1)\n",
      "('10096', 1)\n",
      "('3646', 1)\n",
      "('7446', 1)\n",
      "('3722', 1)\n",
      "('2742', 1)\n",
      "('2909', 1)\n",
      "('5765', 1)\n",
      "('4599', 1)\n",
      "('3172', 1)\n",
      "('2561', 1)\n",
      "('2018', 1)\n",
      "('4084', 1)\n",
      "('9714', 1)\n",
      "('2074', 1)\n",
      "('53', 2)\n",
      "('10169', 1)\n",
      "('4855', 1)\n",
      "('2408', 1)\n",
      "('1569', 1)\n",
      "('10306', 1)\n",
      "('5440', 1)\n",
      "('2166', 1)\n",
      "('4581', 1)\n",
      "('3989', 1)\n",
      "('2655', 1)\n",
      "('1393', 1)\n",
      "('2275', 1)\n",
      "('1555', 1)\n",
      "('12936', 1)\n",
      "('6134', 1)\n",
      "('6735', 1)\n",
      "('2180', 1)\n",
      "('2760', 1)\n",
      "('8564', 1)\n",
      "('8161', 1)\n",
      "('2437', 1)\n",
      "('2679', 1)\n",
      "('2398', 1)\n",
      "('2342', 1)\n",
      "('5813', 1)\n",
      "('4213', 1)\n",
      "('2148', 1)\n",
      "('8926', 1)\n",
      "('2956', 1)\n",
      "('2335', 1)\n",
      "('9907', 1)\n",
      "('2439', 1)\n",
      "('7314', 1)\n",
      "('1081', 1)\n",
      "('2472', 1)\n",
      "('2307', 1)\n",
      "('2587', 1)\n",
      "('1091', 1)\n",
      "('9854', 1)\n",
      "('2432', 1)\n",
      "('2863', 1)\n",
      "('2367', 1)\n",
      "('5617', 1)\n",
      "('10448', 1)\n",
      "('1790', 1)\n",
      "('4787', 1)\n",
      "('2339', 1)\n",
      "('6728', 1)\n",
      "('10854', 1)\n"
     ]
    },
    {
     "data": {
      "text/plain": [
       "<apache_beam.runners.portability.fn_api_runner.fn_runner.RunnerResult at 0x7fa2c124c370>"
      ]
     },
     "execution_count": 487,
     "metadata": {},
     "output_type": "execute_result"
    }
   ],
   "source": [
    "input_data = 'data/IBM.csv'\n",
    "pipeline = beam.Pipeline()\n",
    "\n",
    "outputs = (\n",
    "    pipeline\n",
    "    | 'ReadData' >> beam.io.ReadFromText(input_data, skip_header_lines=1)\n",
    "    | 'SplitData' >> beam.Map(lambda x: x.split(','))\n",
    "    | 'FilterData' >> beam.Filter(lambda x: x[1] == 'Yes')\n",
    "    | 'flatmap' >> beam.FlatMap(lambda x: x)\n",
    "    | 'pair words with 1' >> beam.Map(lambda x: (x, 1))\n",
    "    | 'group and sum' >> beam.CombinePerKey(sum)\n",
    "    | 'print' >> beam.Map(print)\n",
    ")\n",
    "pipeline.run()"
   ]
  },
  {
   "cell_type": "code",
   "execution_count": null,
   "metadata": {},
   "outputs": [],
   "source": [
    "ib.show_graph(p)"
   ]
  },
  {
   "cell_type": "code",
   "execution_count": 17,
   "metadata": {},
   "outputs": [],
   "source": [
    "pc = p | beam.Create([1, 10, 100, 1000])\n",
    "\n",
    "def bounded_sum(values, bound=500):\n",
    "  return min(sum(values), bound)\n",
    "\n",
    "small_sum = pc | \"small sum\" >> beam.CombineGlobally(bounded_sum)  # [500]\n",
    "large_sum = pc | \"large sum\" >> beam.Map(lambda x : x**2) | beam.Map(print)"
   ]
  }
 ],
 "metadata": {
  "kernelspec": {
   "display_name": "snowpark-de-ml",
   "language": "python",
   "name": "python3"
  },
  "language_info": {
   "codemirror_mode": {
    "name": "ipython",
    "version": 3
   },
   "file_extension": ".py",
   "mimetype": "text/x-python",
   "name": "python",
   "nbconvert_exporter": "python",
   "pygments_lexer": "ipython3",
   "version": "3.9.16"
  },
  "orig_nbformat": 4
 },
 "nbformat": 4,
 "nbformat_minor": 2
}
