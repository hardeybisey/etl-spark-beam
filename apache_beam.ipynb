{
 "cells": [
  {
   "cell_type": "code",
   "execution_count": null,
   "metadata": {},
   "outputs": [],
   "source": [
    "curl -s -X POST -H \"Content-Type: application/json\" --data-binary @request.json \\\n",
    "\"https://speech.googleapis.com/v1/speech:recognize?key=${API_KEY}\""
   ]
  },
  {
   "cell_type": "code",
   "execution_count": null,
   "metadata": {},
   "outputs": [],
   "source": [
    "# start dataflow job\n",
    "python dataflow_python_examples/data_transformation.py \\\n",
    "  --project=$PROJECT \\\n",
    "  --region=us-east5 \\\n",
    "  --runner=DataflowRunner \\\n",
    "  --staging_location=gs://$PROJECT/test \\\n",
    "  --temp_location gs://$PROJECT/test \\\n",
    "  --input gs://$PROJECT/data_files/head_usa_names.csv \\\n",
    "  --save_main_session"
   ]
  },
  {
   "cell_type": "code",
   "execution_count": 3,
   "metadata": {},
   "outputs": [],
   "source": [
    "# !pip install \"apache-beam[interactive]\""
   ]
  },
  {
   "cell_type": "code",
   "execution_count": 5,
   "metadata": {},
   "outputs": [],
   "source": [
    "import apache_beam as beam\n",
    "from apache_beam.runners.interactive import interactive_beam as ib\n",
    "from apache_beam.options.pipeline_options import PipelineOptions"
   ]
  },
  {
   "cell_type": "code",
   "execution_count": 208,
   "metadata": {},
   "outputs": [],
   "source": [
    "# customizing pipeline options\n",
    "class Myoptions(PipelineOptions):\n",
    "    @classmethod\n",
    "    def _add_argparse_args(cls, parser):\n",
    "        parser.add_argument(\n",
    "            '--input', \n",
    "            help='Input for the pipeline', \n",
    "            default='gs://dataflow-samples/shakespeare/kinglear.txt')\n",
    "        \n",
    "        parser.add_argument(\n",
    "            '--output',\n",
    "            help='Output for the pipeline',\n",
    "            default='gs://$PROJECT/output/')"
   ]
  },
  {
   "attachments": {},
   "cell_type": "markdown",
   "metadata": {},
   "source": [
    "# beam.Row and infering schema"
   ]
  },
  {
   "cell_type": "code",
   "execution_count": 14,
   "metadata": {},
   "outputs": [
    {
     "name": "stdout",
     "output_type": "stream",
     "text": [
      "Row(bank='Wells Fargo', purchase_amount=103.3)\n"
     ]
    },
    {
     "data": {
      "text/plain": [
       "<apache_beam.runners.portability.fn_api_runner.fn_runner.RunnerResult at 0x7fe212ecaeb0>"
      ]
     },
     "execution_count": 14,
     "metadata": {},
     "output_type": "execute_result"
    }
   ],
   "source": [
    "import typing\n",
    "\n",
    "class Transaction(typing.NamedTuple):\n",
    "    bank: str\n",
    "    purchase_amount: float\n",
    "\n",
    "p = beam.Pipeline()\n",
    "output = (\n",
    "          p\n",
    "          | beam.Create([{\"bank\": \"Wells Fargo\", \"purchase_amount\": 103.30}])\n",
    "          | beam.Map(lambda item : beam.Row(bank=item[\"bank\"], purchase_amount = item[\"purchase_amount\"])).with_output_types(Transaction)\n",
    "          | beam.Map(print)\n",
    "        )\n",
    "\n",
    "p.run()"
   ]
  },
  {
   "attachments": {},
   "cell_type": "markdown",
   "metadata": {},
   "source": [
    "# beam.Select and infering schema"
   ]
  },
  {
   "cell_type": "code",
   "execution_count": 15,
   "metadata": {},
   "outputs": [
    {
     "name": "stdout",
     "output_type": "stream",
     "text": [
      "Row(bank='Wells Fargo', purchase_amount=103.3)\n"
     ]
    },
    {
     "data": {
      "text/plain": [
       "<apache_beam.runners.portability.fn_api_runner.fn_runner.RunnerResult at 0x7fe212b5e7f0>"
      ]
     },
     "execution_count": 15,
     "metadata": {},
     "output_type": "execute_result"
    }
   ],
   "source": [
    "p = beam.Pipeline()\n",
    "\n",
    "output = (\n",
    "          p\n",
    "          | beam.Create([{\"bank\": \"Wells Fargo\", \"purchase_amount\": 103.30}])\n",
    "          | beam.Select(bank = lambda item: item[\"bank\"], purchase_amount = lambda item: item[\"purchase_amount\"]).with_output_types(Transaction)\n",
    "          | beam.Map(print)\n",
    "        )\n",
    "\n",
    "p.run()"
   ]
  },
  {
   "attachments": {},
   "cell_type": "markdown",
   "metadata": {},
   "source": [
    "# creating a DoFn"
   ]
  },
  {
   "cell_type": "code",
   "execution_count": 367,
   "metadata": {},
   "outputs": [
    {
     "name": "stdout",
     "output_type": "stream",
     "text": [
      "3\n",
      "2\n",
      "3\n",
      "3\n",
      "4\n",
      "3\n",
      "4\n"
     ]
    },
    {
     "data": {
      "text/plain": [
       "<apache_beam.runners.portability.fn_api_runner.fn_runner.RunnerResult at 0x7fa29434e070>"
      ]
     },
     "execution_count": 367,
     "metadata": {},
     "output_type": "execute_result"
    }
   ],
   "source": [
    "class ComputeWordLength(beam.DoFn):\n",
    "    def process(self, element):\n",
    "        return [len(element)]\n",
    "    \n",
    "p = beam.Pipeline()\n",
    "# creating Pcollection from data in memory\n",
    "words = beam.Create('who is the man from the moon'.split())\n",
    "wordlengths = p | words | beam.ParDo(ComputeWordLength()) | beam.Map(print)\n",
    "p.run()"
   ]
  },
  {
   "attachments": {},
   "cell_type": "markdown",
   "metadata": {},
   "source": [
    "# passing side inputs to ParDo"
   ]
  },
  {
   "cell_type": "code",
   "execution_count": 421,
   "metadata": {},
   "outputs": [],
   "source": [
    "text = \"\"\"\n",
    "Lorem ipsum dolor sit amet consectetur adipisicing elit. Quisquam vitae unde voluptatibus dolores perspiciatis, quis amet eveniet aperiam atque placeat laborum? Consequuntur illo accusamus, praesentium doloremque eaque recusandae earum perspiciatis!.\"\"\"\n",
    "\n",
    "p = beam.Pipeline()\n",
    "\n",
    "words = p | beam.Create(text.split())\n",
    "\n",
    "def filter_using_length(word, lower_bound, upper_bound=float('inf')):\n",
    "    if lower_bound <= len(word) <= upper_bound:\n",
    "        yield word\n",
    "\n",
    "average_word_len = (\n",
    "    words\n",
    "    | beam.Map(len)\n",
    "    | beam.CombineGlobally(beam.combiners.MeanCombineFn()))\n",
    "\n",
    "small_words = words | \"small words\" >> beam.FlatMap(filter_using_length, lower_bound=1, upper_bound=3)\n",
    "larger_words = words | \"large words\" >> beam.FlatMap(filter_using_length, lower_bound= beam.pvalue.AsSingleton(average_word_len))\n",
    "p.run()"
   ]
  },
  {
   "attachments": {},
   "cell_type": "markdown",
   "metadata": {},
   "source": [
    "# tagging multiple outputs"
   ]
  },
  {
   "cell_type": "code",
   "execution_count": 436,
   "metadata": {},
   "outputs": [
    {
     "data": {
      "text/plain": [
       "<apache_beam.runners.portability.fn_api_runner.fn_runner.RunnerResult at 0x7fa297107310>"
      ]
     },
     "execution_count": 436,
     "metadata": {},
     "output_type": "execute_result"
    }
   ],
   "source": [
    "p = beam.Pipeline()\n",
    "numbers = p | beam.Create([1,2,3,4,5,6,7,8,9,10])\n",
    "\n",
    "def even_odd_filter(x):\n",
    "    yield beam.pvalue.TaggedOutput('odd' if x % 2 else 'even', x)\n",
    "    if x % 10 == 0:\n",
    "        yield x\n",
    "\n",
    "results = numbers | beam.FlatMap(even_odd_filter).with_outputs()#('odd', 'even')\n",
    "p.run()"
   ]
  },
  {
   "attachments": {},
   "cell_type": "markdown",
   "metadata": {},
   "source": [
    "# creating composite transforms"
   ]
  },
  {
   "cell_type": "code",
   "execution_count": 441,
   "metadata": {},
   "outputs": [],
   "source": [
    "class ComputeWordLength(beam.PTransform):\n",
    "    def expand(self, pcoll):\n",
    "        return pcoll | beam.Map(lambda x: len(x))\n",
    "    \n",
    "    p = beam.Pipeline()"
   ]
  },
  {
   "cell_type": "code",
   "execution_count": null,
   "metadata": {},
   "outputs": [],
   "source": []
  },
  {
   "attachments": {},
   "cell_type": "markdown",
   "metadata": {},
   "source": [
    "# Creating a CombineFn"
   ]
  },
  {
   "cell_type": "code",
   "execution_count": 369,
   "metadata": {},
   "outputs": [
    {
     "name": "stdout",
     "output_type": "stream",
     "text": [
      "15\n"
     ]
    },
    {
     "data": {
      "text/plain": [
       "<apache_beam.runners.portability.fn_api_runner.fn_runner.RunnerResult at 0x7fa2c2c13220>"
      ]
     },
     "execution_count": 369,
     "metadata": {},
     "output_type": "execute_result"
    }
   ],
   "source": [
    "class ComputeAverag(beam.CombineFn):\n",
    "    def create_accumulator(self):\n",
    "        return (0.0, 0)\n",
    "    \n",
    "    def add_input(self, sum_count, input):\n",
    "        (sum, count) = sum_count\n",
    "        return sum + input, count + 1\n",
    "    \n",
    "    def merge_accumulators(self, accumulators):\n",
    "        sums, counts = zip(*accumulators)\n",
    "        return sum(sums), sum(counts)\n",
    "    \n",
    "    def extract_output(self, sum_count):\n",
    "        (sum, count) = sum_count\n",
    "        return sum/count if count else float('NaN')\n",
    "\n",
    "p = beam.Pipeline()\n",
    "# creating Pcollection from data in memory\n",
    "pcoll = beam.Create([1, 2, 3, 4, 5])\n",
    "average = p | pcoll | beam.CombineGlobally(ComputeAverag()) | beam.Map(print)\n",
    "p.run()"
   ]
  },
  {
   "cell_type": "code",
   "execution_count": 259,
   "metadata": {},
   "outputs": [],
   "source": [
    "p = beam.Pipeline()\n",
    "\n",
    "emails_list = [\n",
    "    ('amy', 'amy@example.com'),\n",
    "    ('carl', 'carl@example.com'),\n",
    "    ('julia', 'julia@example.com'),\n",
    "    ('carl', 'carl@email.com'),\n",
    "]\n",
    "phones_list = [\n",
    "    ('amy', '111-222-3333'),\n",
    "    ('james', '222-333-4444'),\n",
    "    ('amy', '333-444-5555'),\n",
    "    ('carl', '444-555-6666'),\n",
    "]\n",
    "\n",
    "emails = p | 'CreateEmails' >> beam.Create(emails_list)\n",
    "phones = p | 'CreatePhones' >> beam.Create(phones_list)\n",
    "\n",
    "results = ({'emails': emails, 'phones': phones} | beam.CoGroupByKey()) #| beam.Map(print)"
   ]
  },
  {
   "cell_type": "code",
   "execution_count": 296,
   "metadata": {},
   "outputs": [
    {
     "data": {
      "text/plain": [
       "('1', None)"
      ]
     },
     "execution_count": 296,
     "metadata": {},
     "output_type": "execute_result"
    }
   ],
   "source": [
    "c.kv.get(\"106\")"
   ]
  },
  {
   "cell_type": "code",
   "execution_count": 256,
   "metadata": {},
   "outputs": [
    {
     "data": {
      "text/plain": [
       "<apache_beam.runners.portability.fn_api_runner.fn_runner.RunnerResult at 0x7fa2ac0de5b0>"
      ]
     },
     "execution_count": 256,
     "metadata": {},
     "output_type": "execute_result"
    }
   ],
   "source": [
    "p.run()"
   ]
  },
  {
   "cell_type": "code",
   "execution_count": 479,
   "metadata": {},
   "outputs": [],
   "source": [
    "\n"
   ]
  },
  {
   "cell_type": "code",
   "execution_count": 487,
   "metadata": {},
   "outputs": [
    {
     "name": "stdout",
     "output_type": "stream",
     "text": [
      "('41', 6)\n",
      "('Yes', 237)\n",
      "('Sales', 92)\n",
      "('1', 377)\n",
      "('2', 262)\n",
      "('Life Sciences', 89)\n",
      "('4', 242)\n",
      "('Single', 120)\n",
      "('5993', 1)\n",
      "('8', 25)\n",
      "('6', 32)\n",
      "('37', 6)\n",
      "('Research & Development', 133)\n",
      "('Other', 11)\n",
      "('3', 411)\n",
      "('2090', 1)\n",
      "('0', 39)\n",
      "('28', 16)\n",
      "('24', 20)\n",
      "('2028', 1)\n",
      "('5', 52)\n",
      "('36', 6)\n",
      "('9', 38)\n",
      "('3407', 1)\n",
      "('7', 39)\n",
      "('34', 9)\n",
      "('Medical', 63)\n",
      "('2960', 1)\n",
      "('32', 12)\n",
      "('16', 8)\n",
      "('3919', 1)\n",
      "('10', 29)\n",
      "('39', 6)\n",
      "('Technical Degree', 32)\n",
      "('Married', 84)\n",
      "('2086', 1)\n",
      "('2293', 2)\n",
      "('50', 5)\n",
      "('Marketing', 35)\n",
      "('2683', 1)\n",
      "('26', 15)\n",
      "('25', 12)\n",
      "('12', 6)\n",
      "('19545', 1)\n",
      "('22', 12)\n",
      "('48', 2)\n",
      "('5381', 1)\n",
      "('3441', 1)\n",
      "('3388', 1)\n",
      "('46', 4)\n",
      "('9619', 1)\n",
      "('Human Resources', 19)\n",
      "('Divorced', 33)\n",
      "('2073', 1)\n",
      "('20', 11)\n",
      "('2926', 1)\n",
      "('5744', 1)\n",
      "('6074', 1)\n",
      "('56', 3)\n",
      "('14', 6)\n",
      "('4963', 1)\n",
      "('31', 19)\n",
      "('6172', 1)\n",
      "('58', 5)\n",
      "('23', 10)\n",
      "('10312', 1)\n",
      "('40', 6)\n",
      "('19', 10)\n",
      "('1675', 1)\n",
      "('4559', 1)\n",
      "('51', 2)\n",
      "('10650', 1)\n",
      "('4200', 1)\n",
      "('2325', 1)\n",
      "('1102', 1)\n",
      "('3140', 1)\n",
      "('35', 10)\n",
      "('5916', 1)\n",
      "('38', 2)\n",
      "('29', 23)\n",
      "('6673', 1)\n",
      "('27', 6)\n",
      "('7639', 1)\n",
      "('10400', 1)\n",
      "('30', 9)\n",
      "('2657', 1)\n",
      "('6696', 1)\n",
      "('2058', 1)\n",
      "('18', 9)\n",
      "('2389', 1)\n",
      "('33', 13)\n",
      "('2436', 1)\n",
      "('2707', 1)\n",
      "('3730', 1)\n",
      "('10048', 1)\n",
      "('3479', 1)\n",
      "('3485', 1)\n",
      "('47', 3)\n",
      "('11849', 1)\n",
      "('44', 6)\n",
      "('3161', 1)\n",
      "('2373', 1)\n",
      "('5828', 1)\n",
      "('1420', 1)\n",
      "('52', 3)\n",
      "('4941', 1)\n",
      "('3464', 1)\n",
      "('5238', 1)\n",
      "('2119', 1)\n",
      "('21', 10)\n",
      "('2174', 1)\n",
      "('2851', 1)\n",
      "('9355', 1)\n",
      "('6380', 1)\n",
      "('2716', 1)\n",
      "('5304', 1)\n",
      "('3102', 1)\n",
      "('2285', 1)\n",
      "('4031', 1)\n",
      "('3202', 1)\n",
      "('2351', 1)\n",
      "('2546', 1)\n",
      "('2564', 1)\n",
      "('15', 6)\n",
      "('13610', 1)\n",
      "('3408', 1)\n",
      "('9824', 1)\n",
      "('9950', 1)\n",
      "('3894', 1)\n",
      "('17', 6)\n",
      "('2741', 1)\n",
      "('1878', 1)\n",
      "('2340', 1)\n",
      "('11', 6)\n",
      "('4707', 1)\n",
      "('2886', 1)\n",
      "('2033', 1)\n",
      "('13', 8)\n",
      "('4233', 1)\n",
      "('3041', 1)\n",
      "('45', 2)\n",
      "('4286', 1)\n",
      "('1009', 1)\n",
      "('3348', 1)\n",
      "('4577', 1)\n",
      "('6796', 1)\n",
      "('2216', 1)\n",
      "('42', 2)\n",
      "('2759', 1)\n",
      "('2686', 1)\n",
      "('6397', 1)\n",
      "('55', 3)\n",
      "('19859', 1)\n",
      "('5326', 1)\n",
      "('1601', 1)\n",
      "('2319', 1)\n",
      "('5324', 1)\n",
      "('19246', 1)\n",
      "('4382', 1)\n",
      "('49', 2)\n",
      "('7654', 1)\n",
      "('5160', 1)\n",
      "('2366', 1)\n",
      "('2022', 1)\n",
      "('2800', 1)\n",
      "('2795', 1)\n",
      "('2380', 1)\n",
      "('2044', 1)\n",
      "('2693', 1)\n",
      "('4171', 1)\n",
      "('2778', 1)\n",
      "('2404', 2)\n",
      "('2413', 1)\n",
      "('2121', 1)\n",
      "('2973', 1)\n",
      "('10325', 1)\n",
      "('10609', 1)\n",
      "('2479', 1)\n",
      "('13194', 1)\n",
      "('2321', 1)\n",
      "('2132', 1)\n",
      "('3743', 1)\n",
      "('2600', 1)\n",
      "('2422', 1)\n",
      "('4777', 1)\n",
      "('4969', 1)\n",
      "('19845', 1)\n",
      "('2743', 1)\n",
      "('4834', 1)\n",
      "('2042', 1)\n",
      "('2323', 1)\n",
      "('1416', 1)\n",
      "('2461', 1)\n",
      "('8722', 1)\n",
      "('10482', 1)\n",
      "('9582', 1)\n",
      "('4508', 1)\n",
      "('3691', 1)\n",
      "('2377', 1)\n",
      "('2313', 1)\n",
      "('2596', 1)\n",
      "('4728', 1)\n",
      "('12169', 1)\n",
      "('1904', 1)\n",
      "('8224', 1)\n",
      "('2610', 1)\n",
      "('7336', 1)\n",
      "('13758', 1)\n",
      "('2515', 1)\n",
      "('43', 2)\n",
      "('5346', 2)\n",
      "('2936', 1)\n",
      "('2853', 1)\n",
      "('2107', 1)\n",
      "('2210', 1)\n",
      "('1859', 1)\n",
      "('1118', 1)\n",
      "('18824', 1)\n",
      "('2625', 1)\n",
      "('7978', 1)\n",
      "('3339', 1)\n",
      "('4883', 1)\n",
      "('3904', 1)\n",
      "('9094', 1)\n",
      "('8446', 1)\n",
      "('2302', 1)\n",
      "('2362', 2)\n",
      "('10008', 1)\n",
      "('13695', 1)\n",
      "('2785', 1)\n",
      "('4614', 1)\n",
      "('6179', 1)\n",
      "('2394', 1)\n",
      "('4284', 1)\n",
      "('7553', 1)\n",
      "('1359', 1)\n",
      "('1261', 1)\n",
      "('4400', 1)\n",
      "('10096', 1)\n",
      "('3646', 1)\n",
      "('7446', 1)\n",
      "('3722', 1)\n",
      "('2742', 1)\n",
      "('2909', 1)\n",
      "('5765', 1)\n",
      "('4599', 1)\n",
      "('3172', 1)\n",
      "('2561', 1)\n",
      "('2018', 1)\n",
      "('4084', 1)\n",
      "('9714', 1)\n",
      "('2074', 1)\n",
      "('53', 2)\n",
      "('10169', 1)\n",
      "('4855', 1)\n",
      "('2408', 1)\n",
      "('1569', 1)\n",
      "('10306', 1)\n",
      "('5440', 1)\n",
      "('2166', 1)\n",
      "('4581', 1)\n",
      "('3989', 1)\n",
      "('2655', 1)\n",
      "('1393', 1)\n",
      "('2275', 1)\n",
      "('1555', 1)\n",
      "('12936', 1)\n",
      "('6134', 1)\n",
      "('6735', 1)\n",
      "('2180', 1)\n",
      "('2760', 1)\n",
      "('8564', 1)\n",
      "('8161', 1)\n",
      "('2437', 1)\n",
      "('2679', 1)\n",
      "('2398', 1)\n",
      "('2342', 1)\n",
      "('5813', 1)\n",
      "('4213', 1)\n",
      "('2148', 1)\n",
      "('8926', 1)\n",
      "('2956', 1)\n",
      "('2335', 1)\n",
      "('9907', 1)\n",
      "('2439', 1)\n",
      "('7314', 1)\n",
      "('1081', 1)\n",
      "('2472', 1)\n",
      "('2307', 1)\n",
      "('2587', 1)\n",
      "('1091', 1)\n",
      "('9854', 1)\n",
      "('2432', 1)\n",
      "('2863', 1)\n",
      "('2367', 1)\n",
      "('5617', 1)\n",
      "('10448', 1)\n",
      "('1790', 1)\n",
      "('4787', 1)\n",
      "('2339', 1)\n",
      "('6728', 1)\n",
      "('10854', 1)\n"
     ]
    },
    {
     "data": {
      "text/plain": [
       "<apache_beam.runners.portability.fn_api_runner.fn_runner.RunnerResult at 0x7fa2c124c370>"
      ]
     },
     "execution_count": 487,
     "metadata": {},
     "output_type": "execute_result"
    }
   ],
   "source": [
    "input_data = 'data/IBM.csv'\n",
    "pipeline = beam.Pipeline()\n",
    "\n",
    "outputs = (\n",
    "    pipeline\n",
    "    | 'ReadData' >> beam.io.ReadFromText(input_data, skip_header_lines=1)\n",
    "    | 'SplitData' >> beam.Map(lambda x: x.split(','))\n",
    "    | 'FilterData' >> beam.Filter(lambda x: x[1] == 'Yes')\n",
    "    | 'flatmap' >> beam.FlatMap(lambda x: x)\n",
    "    | 'pair words with 1' >> beam.Map(lambda x: (x, 1))\n",
    "    | 'group and sum' >> beam.CombinePerKey(sum)\n",
    "    | 'print' >> beam.Map(print)\n",
    ")\n",
    "pipeline.run()"
   ]
  },
  {
   "cell_type": "code",
   "execution_count": 358,
   "metadata": {},
   "outputs": [
    {
     "data": {
      "text/html": [
       "\n",
       "            <link rel=\"stylesheet\" href=\"https://stackpath.bootstrapcdn.com/bootstrap/4.4.1/css/bootstrap.min.css\" integrity=\"sha384-Vkoo8x4CGsO3+Hhxv8T/Q5PaXtkKtu6ug5TOeNV6gBiFeWPGFN9MuhOf23Q9Ifjh\" crossorigin=\"anonymous\">\n",
       "            <div id=\"progress_indicator_75d822fcfc75562841ca429edb4d9921\">\n",
       "              <div class=\"spinner-border text-info\" role=\"status\"></div>\n",
       "              <span class=\"text-info\">Processing... show_graph</span>\n",
       "            </div>\n",
       "            "
      ],
      "text/plain": [
       "<IPython.core.display.HTML object>"
      ]
     },
     "metadata": {},
     "output_type": "display_data"
    },
    {
     "name": "stdout",
     "output_type": "stream",
     "text": [
      "/Users/hardey/opt/anaconda3/envs/bigdata/bin/dot\n"
     ]
    },
    {
     "data": {
      "text/html": [
       "<?xml version=\"1.0\" encoding=\"UTF-8\" standalone=\"no\"?>\n",
       "<!DOCTYPE svg PUBLIC \"-//W3C//DTD SVG 1.1//EN\"\n",
       " \"http://www.w3.org/Graphics/SVG/1.1/DTD/svg11.dtd\">\n",
       "<!-- Generated by graphviz version 2.50.0 (0)\n",
       " -->\n",
       "<!-- Title: G Pages: 1 -->\n",
       "<svg width=\"1549pt\" height=\"635pt\"\n",
       " viewBox=\"0.00 0.00 1548.50 634.98\" xmlns=\"http://www.w3.org/2000/svg\" xmlns:xlink=\"http://www.w3.org/1999/xlink\">\n",
       "<g id=\"graph0\" class=\"graph\" transform=\"scale(1 1) rotate(0) translate(4 630.98)\">\n",
       "<title>G</title>\n",
       "<polygon fill=\"white\" stroke=\"transparent\" points=\"-4,4 -4,-630.98 1544.5,-630.98 1544.5,4 -4,4\"/>\n",
       "<!-- [349]: Create -->\n",
       "<g id=\"node1\" class=\"node\">\n",
       "<title>[349]: Create</title>\n",
       "<polygon fill=\"none\" stroke=\"blue\" points=\"862.5,-626.98 773.5,-626.98 773.5,-590.98 862.5,-590.98 862.5,-626.98\"/>\n",
       "<text text-anchor=\"middle\" x=\"818\" y=\"-605.28\" font-family=\"Times,serif\" font-size=\"14.00\" fill=\"blue\">[349]: Create</text>\n",
       "</g>\n",
       "<!-- pcoll2844 -->\n",
       "<g id=\"node2\" class=\"node\">\n",
       "<title>pcoll2844</title>\n",
       "<ellipse fill=\"none\" stroke=\"blue\" cx=\"818\" cy=\"-536.13\" rx=\"18\" ry=\"18\"/>\n",
       "</g>\n",
       "<!-- [349]: Create&#45;&gt;pcoll2844 -->\n",
       "<g id=\"edge1\" class=\"edge\">\n",
       "<title>[349]: Create&#45;&gt;pcoll2844</title>\n",
       "<path fill=\"none\" stroke=\"black\" d=\"M818,-590.83C818,-583.03 818,-573.6 818,-564.83\"/>\n",
       "<polygon fill=\"black\" stroke=\"black\" points=\"821.5,-564.62 818,-554.62 814.5,-564.62 821.5,-564.62\"/>\n",
       "</g>\n",
       "<!-- [349]: large sum -->\n",
       "<g id=\"node3\" class=\"node\">\n",
       "<title>[349]: large sum</title>\n",
       "<polygon fill=\"none\" stroke=\"blue\" points=\"690.5,-481.29 583.5,-481.29 583.5,-445.29 690.5,-445.29 690.5,-481.29\"/>\n",
       "<text text-anchor=\"middle\" x=\"637\" y=\"-459.59\" font-family=\"Times,serif\" font-size=\"14.00\" fill=\"blue\">[349]: large sum</text>\n",
       "</g>\n",
       "<!-- pcoll2844&#45;&gt;[349]: large sum -->\n",
       "<g id=\"edge2\" class=\"edge\">\n",
       "<title>pcoll2844&#45;&gt;[349]: large sum</title>\n",
       "<path fill=\"none\" stroke=\"black\" d=\"M801.3,-528.6C776.21,-518.77 727.7,-499.79 689.87,-484.98\"/>\n",
       "<polygon fill=\"black\" stroke=\"black\" points=\"691.09,-481.7 680.5,-481.31 688.53,-488.22 691.09,-481.7\"/>\n",
       "</g>\n",
       "<!-- [350]: ReifyBefore_WriteCache_bc54f4d60f&#45;140337005282592&#45;140337005283600&#45;140337005692816 -->\n",
       "<g id=\"node5\" class=\"node\">\n",
       "<title>[350]: ReifyBefore_WriteCache_bc54f4d60f&#45;140337005282592&#45;140337005283600&#45;140337005692816</title>\n",
       "<polygon fill=\"none\" stroke=\"blue\" points=\"1287,-481.29 709,-481.29 709,-445.29 1287,-445.29 1287,-481.29\"/>\n",
       "<text text-anchor=\"middle\" x=\"998\" y=\"-459.59\" font-family=\"Times,serif\" font-size=\"14.00\" fill=\"blue\">[350]: ReifyBefore_WriteCache_bc54f4d60f&#45;140337005282592&#45;140337005283600&#45;140337005692816</text>\n",
       "</g>\n",
       "<!-- pcoll2844&#45;&gt;[350]: ReifyBefore_WriteCache_bc54f4d60f&#45;140337005282592&#45;140337005283600&#45;140337005692816 -->\n",
       "<g id=\"edge3\" class=\"edge\">\n",
       "<title>pcoll2844&#45;&gt;[350]: ReifyBefore_WriteCache_bc54f4d60f&#45;140337005282592&#45;140337005283600&#45;140337005692816</title>\n",
       "<path fill=\"none\" stroke=\"black\" d=\"M834.61,-528.6C859.56,-518.77 907.8,-499.79 945.43,-484.98\"/>\n",
       "<polygon fill=\"black\" stroke=\"black\" points=\"946.72,-488.23 954.74,-481.31 944.16,-481.72 946.72,-488.23\"/>\n",
       "</g>\n",
       "<!-- _353 -->\n",
       "<g id=\"node4\" class=\"node\">\n",
       "<title>_353</title>\n",
       "<ellipse fill=\"none\" stroke=\"blue\" cx=\"637\" cy=\"-380.69\" rx=\"28.7\" ry=\"28.7\"/>\n",
       "<text text-anchor=\"middle\" x=\"637\" y=\"-376.99\" font-family=\"Times,serif\" font-size=\"14.00\" fill=\"blue\">_353</text>\n",
       "</g>\n",
       "<!-- [349]: large sum&#45;&gt;_353 -->\n",
       "<g id=\"edge4\" class=\"edge\">\n",
       "<title>[349]: large sum&#45;&gt;_353</title>\n",
       "<path fill=\"none\" stroke=\"black\" d=\"M637,-445.19C637,-437.75 637,-428.71 637,-419.82\"/>\n",
       "<polygon fill=\"black\" stroke=\"black\" points=\"640.5,-419.54 637,-409.54 633.5,-419.54 640.5,-419.54\"/>\n",
       "</g>\n",
       "<!-- [350]: ReifyBefore_WriteCache_015b9fe344&#45;140337003403056&#45;140337004450768&#45;140337005692816 -->\n",
       "<g id=\"node9\" class=\"node\">\n",
       "<title>[350]: ReifyBefore_WriteCache_015b9fe344&#45;140337003403056&#45;140337004450768&#45;140337005692816</title>\n",
       "<polygon fill=\"none\" stroke=\"blue\" points=\"580,-316.09 0,-316.09 0,-280.09 580,-280.09 580,-316.09\"/>\n",
       "<text text-anchor=\"middle\" x=\"290\" y=\"-294.39\" font-family=\"Times,serif\" font-size=\"14.00\" fill=\"blue\">[350]: ReifyBefore_WriteCache_015b9fe344&#45;140337003403056&#45;140337004450768&#45;140337005692816</text>\n",
       "</g>\n",
       "<!-- _353&#45;&gt;[350]: ReifyBefore_WriteCache_015b9fe344&#45;140337003403056&#45;140337004450768&#45;140337005692816 -->\n",
       "<g id=\"edge5\" class=\"edge\">\n",
       "<title>_353&#45;&gt;[350]: ReifyBefore_WriteCache_015b9fe344&#45;140337003403056&#45;140337004450768&#45;140337005692816</title>\n",
       "<path fill=\"none\" stroke=\"black\" d=\"M609.19,-373.23C558.63,-361.49 449.81,-336.21 373.35,-318.45\"/>\n",
       "<polygon fill=\"black\" stroke=\"black\" points=\"373.79,-314.96 363.25,-316.11 372.2,-321.78 373.79,-314.96\"/>\n",
       "</g>\n",
       "<!-- [352]: Map(print) -->\n",
       "<g id=\"node13\" class=\"node\">\n",
       "<title>[352]: Map(print)</title>\n",
       "<polygon fill=\"none\" stroke=\"blue\" points=\"711.5,-316.09 598.5,-316.09 598.5,-280.09 711.5,-280.09 711.5,-316.09\"/>\n",
       "<text text-anchor=\"middle\" x=\"655\" y=\"-294.39\" font-family=\"Times,serif\" font-size=\"14.00\" fill=\"blue\">[352]: Map(print)</text>\n",
       "</g>\n",
       "<!-- _353&#45;&gt;[352]: Map(print) -->\n",
       "<g id=\"edge6\" class=\"edge\">\n",
       "<title>_353&#45;&gt;[352]: Map(print)</title>\n",
       "<path fill=\"none\" stroke=\"black\" d=\"M643.09,-352.4C644.96,-344.05 647.01,-334.87 648.88,-326.51\"/>\n",
       "<polygon fill=\"black\" stroke=\"black\" points=\"652.35,-327.02 651.11,-316.49 645.52,-325.49 652.35,-327.02\"/>\n",
       "</g>\n",
       "<!-- pcoll6137 -->\n",
       "<g id=\"node6\" class=\"node\">\n",
       "<title>pcoll6137</title>\n",
       "<ellipse fill=\"none\" stroke=\"blue\" cx=\"998\" cy=\"-380.69\" rx=\"18\" ry=\"18\"/>\n",
       "</g>\n",
       "<!-- [350]: ReifyBefore_WriteCache_bc54f4d60f&#45;140337005282592&#45;140337005283600&#45;140337005692816&#45;&gt;pcoll6137 -->\n",
       "<g id=\"edge7\" class=\"edge\">\n",
       "<title>[350]: ReifyBefore_WriteCache_bc54f4d60f&#45;140337005282592&#45;140337005283600&#45;140337005692816&#45;&gt;pcoll6137</title>\n",
       "<path fill=\"none\" stroke=\"black\" d=\"M998,-445.19C998,-434.61 998,-420.8 998,-408.76\"/>\n",
       "<polygon fill=\"black\" stroke=\"black\" points=\"1001.5,-408.76 998,-398.76 994.5,-408.76 1001.5,-408.76\"/>\n",
       "</g>\n",
       "<!-- [350]: WriteCache_bc54f4d60f&#45;140337005282592&#45;140337005283600&#45;140337005692816 -->\n",
       "<g id=\"node7\" class=\"node\">\n",
       "<title>[350]: WriteCache_bc54f4d60f&#45;140337005282592&#45;140337005283600&#45;140337005692816</title>\n",
       "<polygon fill=\"none\" stroke=\"blue\" points=\"1249.5,-316.09 746.5,-316.09 746.5,-280.09 1249.5,-280.09 1249.5,-316.09\"/>\n",
       "<text text-anchor=\"middle\" x=\"998\" y=\"-294.39\" font-family=\"Times,serif\" font-size=\"14.00\" fill=\"blue\">[350]: WriteCache_bc54f4d60f&#45;140337005282592&#45;140337005283600&#45;140337005692816</text>\n",
       "</g>\n",
       "<!-- pcoll6137&#45;&gt;[350]: WriteCache_bc54f4d60f&#45;140337005282592&#45;140337005283600&#45;140337005692816 -->\n",
       "<g id=\"edge8\" class=\"edge\">\n",
       "<title>pcoll6137&#45;&gt;[350]: WriteCache_bc54f4d60f&#45;140337005282592&#45;140337005283600&#45;140337005692816</title>\n",
       "<path fill=\"none\" stroke=\"black\" d=\"M998,-362.6C998,-352.02 998,-338.2 998,-326.16\"/>\n",
       "<polygon fill=\"black\" stroke=\"black\" points=\"1001.5,-326.16 998,-316.16 994.5,-326.16 1001.5,-326.16\"/>\n",
       "</g>\n",
       "<!-- pcoll930 -->\n",
       "<g id=\"node8\" class=\"node\">\n",
       "<title>pcoll930</title>\n",
       "<ellipse fill=\"none\" stroke=\"blue\" cx=\"998\" cy=\"-194.05\" rx=\"18\" ry=\"18\"/>\n",
       "</g>\n",
       "<!-- [350]: WriteCache_bc54f4d60f&#45;140337005282592&#45;140337005283600&#45;140337005692816&#45;&gt;pcoll930 -->\n",
       "<g id=\"edge9\" class=\"edge\">\n",
       "<title>[350]: WriteCache_bc54f4d60f&#45;140337005282592&#45;140337005283600&#45;140337005692816&#45;&gt;pcoll930</title>\n",
       "<path fill=\"none\" stroke=\"black\" d=\"M998,-279.78C998,-264 998,-240.43 998,-222.15\"/>\n",
       "<polygon fill=\"black\" stroke=\"black\" points=\"1001.5,-222.1 998,-212.1 994.5,-222.1 1001.5,-222.1\"/>\n",
       "</g>\n",
       "<!-- pcoll9711 -->\n",
       "<g id=\"node10\" class=\"node\">\n",
       "<title>pcoll9711</title>\n",
       "<ellipse fill=\"none\" stroke=\"blue\" cx=\"290\" cy=\"-194.05\" rx=\"18\" ry=\"18\"/>\n",
       "</g>\n",
       "<!-- [350]: ReifyBefore_WriteCache_015b9fe344&#45;140337003403056&#45;140337004450768&#45;140337005692816&#45;&gt;pcoll9711 -->\n",
       "<g id=\"edge10\" class=\"edge\">\n",
       "<title>[350]: ReifyBefore_WriteCache_015b9fe344&#45;140337003403056&#45;140337004450768&#45;140337005692816&#45;&gt;pcoll9711</title>\n",
       "<path fill=\"none\" stroke=\"black\" d=\"M290,-279.78C290,-264 290,-240.43 290,-222.15\"/>\n",
       "<polygon fill=\"black\" stroke=\"black\" points=\"293.5,-222.1 290,-212.1 286.5,-222.1 293.5,-222.1\"/>\n",
       "</g>\n",
       "<!-- [350]: WriteCache_015b9fe344&#45;140337003403056&#45;140337004450768&#45;140337005692816 -->\n",
       "<g id=\"node11\" class=\"node\">\n",
       "<title>[350]: WriteCache_015b9fe344&#45;140337003403056&#45;140337004450768&#45;140337005692816</title>\n",
       "<polygon fill=\"none\" stroke=\"blue\" points=\"543,-108 37,-108 37,-72 543,-72 543,-108\"/>\n",
       "<text text-anchor=\"middle\" x=\"290\" y=\"-86.3\" font-family=\"Times,serif\" font-size=\"14.00\" fill=\"blue\">[350]: WriteCache_015b9fe344&#45;140337003403056&#45;140337004450768&#45;140337005692816</text>\n",
       "</g>\n",
       "<!-- pcoll9711&#45;&gt;[350]: WriteCache_015b9fe344&#45;140337003403056&#45;140337004450768&#45;140337005692816 -->\n",
       "<g id=\"edge11\" class=\"edge\">\n",
       "<title>pcoll9711&#45;&gt;[350]: WriteCache_015b9fe344&#45;140337003403056&#45;140337004450768&#45;140337005692816</title>\n",
       "<path fill=\"none\" stroke=\"black\" d=\"M290,-175.73C290,-159.95 290,-136.38 290,-118.11\"/>\n",
       "<polygon fill=\"black\" stroke=\"black\" points=\"293.5,-118.05 290,-108.05 286.5,-118.06 293.5,-118.05\"/>\n",
       "</g>\n",
       "<!-- pcoll9062 -->\n",
       "<g id=\"node12\" class=\"node\">\n",
       "<title>pcoll9062</title>\n",
       "<ellipse fill=\"none\" stroke=\"blue\" cx=\"290\" cy=\"-18\" rx=\"18\" ry=\"18\"/>\n",
       "</g>\n",
       "<!-- [350]: WriteCache_015b9fe344&#45;140337003403056&#45;140337004450768&#45;140337005692816&#45;&gt;pcoll9062 -->\n",
       "<g id=\"edge12\" class=\"edge\">\n",
       "<title>[350]: WriteCache_015b9fe344&#45;140337003403056&#45;140337004450768&#45;140337005692816&#45;&gt;pcoll9062</title>\n",
       "<path fill=\"none\" stroke=\"black\" d=\"M290,-71.7C290,-63.98 290,-54.71 290,-46.11\"/>\n",
       "<polygon fill=\"black\" stroke=\"black\" points=\"293.5,-46.1 290,-36.1 286.5,-46.1 293.5,-46.1\"/>\n",
       "</g>\n",
       "<!-- _352 -->\n",
       "<g id=\"node14\" class=\"node\">\n",
       "<title>_352</title>\n",
       "<ellipse fill=\"none\" stroke=\"blue\" cx=\"655\" cy=\"-194.05\" rx=\"28.7\" ry=\"28.7\"/>\n",
       "<text text-anchor=\"middle\" x=\"655\" y=\"-190.35\" font-family=\"Times,serif\" font-size=\"14.00\" fill=\"blue\">_352</text>\n",
       "</g>\n",
       "<!-- [352]: Map(print)&#45;&gt;_352 -->\n",
       "<g id=\"edge13\" class=\"edge\">\n",
       "<title>[352]: Map(print)&#45;&gt;_352</title>\n",
       "<path fill=\"none\" stroke=\"black\" d=\"M655,-279.78C655,-267 655,-249.11 655,-233.06\"/>\n",
       "<polygon fill=\"black\" stroke=\"black\" points=\"658.5,-232.85 655,-222.85 651.5,-232.85 658.5,-232.85\"/>\n",
       "</g>\n",
       "<!-- [357]: Create -->\n",
       "<g id=\"node15\" class=\"node\">\n",
       "<title>[357]: Create</title>\n",
       "<polygon fill=\"none\" stroke=\"blue\" points=\"1467.5,-626.98 1378.5,-626.98 1378.5,-590.98 1467.5,-590.98 1467.5,-626.98\"/>\n",
       "<text text-anchor=\"middle\" x=\"1423\" y=\"-605.28\" font-family=\"Times,serif\" font-size=\"14.00\" fill=\"blue\">[357]: Create</text>\n",
       "</g>\n",
       "<!-- pc -->\n",
       "<g id=\"node16\" class=\"node\">\n",
       "<title>pc</title>\n",
       "<ellipse fill=\"none\" stroke=\"blue\" cx=\"1423\" cy=\"-536.13\" rx=\"18.7\" ry=\"18.7\"/>\n",
       "<text text-anchor=\"middle\" x=\"1423\" y=\"-532.43\" font-family=\"Times,serif\" font-size=\"14.00\" fill=\"blue\">pc</text>\n",
       "</g>\n",
       "<!-- [357]: Create&#45;&gt;pc -->\n",
       "<g id=\"edge14\" class=\"edge\">\n",
       "<title>[357]: Create&#45;&gt;pc</title>\n",
       "<path fill=\"none\" stroke=\"black\" d=\"M1423,-590.83C1423,-583.15 1423,-573.88 1423,-565.22\"/>\n",
       "<polygon fill=\"black\" stroke=\"black\" points=\"1426.5,-565.12 1423,-555.12 1419.5,-565.12 1426.5,-565.12\"/>\n",
       "</g>\n",
       "<!-- [357]: small sum -->\n",
       "<g id=\"node17\" class=\"node\">\n",
       "<title>[357]: small sum</title>\n",
       "<polygon fill=\"none\" stroke=\"blue\" points=\"1415,-481.29 1305,-481.29 1305,-445.29 1415,-445.29 1415,-481.29\"/>\n",
       "<text text-anchor=\"middle\" x=\"1360\" y=\"-459.59\" font-family=\"Times,serif\" font-size=\"14.00\" fill=\"blue\">[357]: small sum</text>\n",
       "</g>\n",
       "<!-- pc&#45;&gt;[357]: small sum -->\n",
       "<g id=\"edge15\" class=\"edge\">\n",
       "<title>pc&#45;&gt;[357]: small sum</title>\n",
       "<path fill=\"none\" stroke=\"black\" d=\"M1410.85,-521.47C1402.68,-512.28 1391.67,-499.91 1381.99,-489.01\"/>\n",
       "<polygon fill=\"black\" stroke=\"black\" points=\"1384.49,-486.56 1375.23,-481.41 1379.26,-491.21 1384.49,-486.56\"/>\n",
       "</g>\n",
       "<!-- [357]: large sum -->\n",
       "<g id=\"node21\" class=\"node\">\n",
       "<title>[357]: large sum</title>\n",
       "<polygon fill=\"none\" stroke=\"blue\" points=\"1540.5,-481.29 1433.5,-481.29 1433.5,-445.29 1540.5,-445.29 1540.5,-481.29\"/>\n",
       "<text text-anchor=\"middle\" x=\"1487\" y=\"-459.59\" font-family=\"Times,serif\" font-size=\"14.00\" fill=\"blue\">[357]: large sum</text>\n",
       "</g>\n",
       "<!-- pc&#45;&gt;[357]: large sum -->\n",
       "<g id=\"edge16\" class=\"edge\">\n",
       "<title>pc&#45;&gt;[357]: large sum</title>\n",
       "<path fill=\"none\" stroke=\"black\" d=\"M1435.34,-521.47C1443.64,-512.28 1454.82,-499.91 1464.66,-489.01\"/>\n",
       "<polygon fill=\"black\" stroke=\"black\" points=\"1467.42,-491.18 1471.53,-481.41 1462.23,-486.49 1467.42,-491.18\"/>\n",
       "</g>\n",
       "<!-- pcoll9074 -->\n",
       "<g id=\"node18\" class=\"node\">\n",
       "<title>pcoll9074</title>\n",
       "<ellipse fill=\"none\" stroke=\"blue\" cx=\"1360\" cy=\"-380.69\" rx=\"18\" ry=\"18\"/>\n",
       "</g>\n",
       "<!-- [357]: small sum&#45;&gt;pcoll9074 -->\n",
       "<g id=\"edge17\" class=\"edge\">\n",
       "<title>[357]: small sum&#45;&gt;pcoll9074</title>\n",
       "<path fill=\"none\" stroke=\"black\" d=\"M1360,-445.19C1360,-434.61 1360,-420.8 1360,-408.76\"/>\n",
       "<polygon fill=\"black\" stroke=\"black\" points=\"1363.5,-408.76 1360,-398.76 1356.5,-408.76 1363.5,-408.76\"/>\n",
       "</g>\n",
       "<!-- [357]: Map(print) -->\n",
       "<g id=\"node19\" class=\"node\">\n",
       "<title>[357]: Map(print)</title>\n",
       "<polygon fill=\"none\" stroke=\"blue\" points=\"1416.5,-316.09 1303.5,-316.09 1303.5,-280.09 1416.5,-280.09 1416.5,-316.09\"/>\n",
       "<text text-anchor=\"middle\" x=\"1360\" y=\"-294.39\" font-family=\"Times,serif\" font-size=\"14.00\" fill=\"blue\">[357]: Map(print)</text>\n",
       "</g>\n",
       "<!-- pcoll9074&#45;&gt;[357]: Map(print) -->\n",
       "<g id=\"edge18\" class=\"edge\">\n",
       "<title>pcoll9074&#45;&gt;[357]: Map(print)</title>\n",
       "<path fill=\"none\" stroke=\"black\" d=\"M1360,-362.6C1360,-352.02 1360,-338.2 1360,-326.16\"/>\n",
       "<polygon fill=\"black\" stroke=\"black\" points=\"1363.5,-326.16 1360,-316.16 1356.5,-326.16 1363.5,-326.16\"/>\n",
       "</g>\n",
       "<!-- small_sum -->\n",
       "<g id=\"node20\" class=\"node\">\n",
       "<title>small_sum</title>\n",
       "<ellipse fill=\"none\" stroke=\"blue\" cx=\"1360\" cy=\"-194.05\" rx=\"50.09\" ry=\"50.09\"/>\n",
       "<text text-anchor=\"middle\" x=\"1360\" y=\"-190.35\" font-family=\"Times,serif\" font-size=\"14.00\" fill=\"blue\">small_sum</text>\n",
       "</g>\n",
       "<!-- [357]: Map(print)&#45;&gt;small_sum -->\n",
       "<g id=\"edge19\" class=\"edge\">\n",
       "<title>[357]: Map(print)&#45;&gt;small_sum</title>\n",
       "<path fill=\"none\" stroke=\"black\" d=\"M1360,-279.78C1360,-272.51 1360,-263.6 1360,-254.31\"/>\n",
       "<polygon fill=\"black\" stroke=\"black\" points=\"1363.5,-254.14 1360,-244.14 1356.5,-254.14 1363.5,-254.14\"/>\n",
       "</g>\n",
       "<!-- pcoll4403 -->\n",
       "<g id=\"node22\" class=\"node\">\n",
       "<title>pcoll4403</title>\n",
       "<ellipse fill=\"none\" stroke=\"blue\" cx=\"1487\" cy=\"-380.69\" rx=\"18\" ry=\"18\"/>\n",
       "</g>\n",
       "<!-- [357]: large sum&#45;&gt;pcoll4403 -->\n",
       "<g id=\"edge20\" class=\"edge\">\n",
       "<title>[357]: large sum&#45;&gt;pcoll4403</title>\n",
       "<path fill=\"none\" stroke=\"black\" d=\"M1487,-445.19C1487,-434.61 1487,-420.8 1487,-408.76\"/>\n",
       "<polygon fill=\"black\" stroke=\"black\" points=\"1490.5,-408.76 1487,-398.76 1483.5,-408.76 1490.5,-408.76\"/>\n",
       "</g>\n",
       "</g>\n",
       "</svg>\n"
      ],
      "text/plain": [
       "<IPython.core.display.HTML object>"
      ]
     },
     "metadata": {},
     "output_type": "display_data"
    },
    {
     "data": {
      "application/javascript": "\n        if (typeof window.interactive_beam_jquery == 'undefined') {\n          var jqueryScript = document.createElement('script');\n          jqueryScript.src = 'https://code.jquery.com/jquery-3.4.1.slim.min.js';\n          jqueryScript.type = 'text/javascript';\n          jqueryScript.onload = function() {\n            var datatableScript = document.createElement('script');\n            datatableScript.src = 'https://cdn.datatables.net/1.10.20/js/jquery.dataTables.min.js';\n            datatableScript.type = 'text/javascript';\n            datatableScript.onload = function() {\n              window.interactive_beam_jquery = jQuery.noConflict(true);\n              window.interactive_beam_jquery(document).ready(function($){\n                \n            $(\"#progress_indicator_75d822fcfc75562841ca429edb4d9921\").remove();\n              });\n            }\n            document.head.appendChild(datatableScript);\n          };\n          document.head.appendChild(jqueryScript);\n        } else {\n          window.interactive_beam_jquery(document).ready(function($){\n            \n            $(\"#progress_indicator_75d822fcfc75562841ca429edb4d9921\").remove();\n          });\n        }"
     },
     "metadata": {},
     "output_type": "display_data"
    }
   ],
   "source": [
    "ib.show_graph(p)"
   ]
  },
  {
   "cell_type": "code",
   "execution_count": 348,
   "metadata": {},
   "outputs": [],
   "source": [
    "from apache_beam.runners.interactive.interactive_runner import InteractiveRunner\n",
    "p = beam.Pipeline(InteractiveRunner())"
   ]
  },
  {
   "cell_type": "code",
   "execution_count": 357,
   "metadata": {},
   "outputs": [
    {
     "ename": "RuntimeError",
     "evalue": "A transform with label \"[357]: Map(print)\" already exists in the pipeline. To apply a transform with a specified label write pvalue | \"label\" >> transform",
     "output_type": "error",
     "traceback": [
      "\u001b[0;31m---------------------------------------------------------------------------\u001b[0m",
      "\u001b[0;31mRuntimeError\u001b[0m                              Traceback (most recent call last)",
      "Cell \u001b[0;32mIn[357], line 7\u001b[0m\n\u001b[1;32m      4\u001b[0m   \u001b[39mreturn\u001b[39;00m \u001b[39mmin\u001b[39m(\u001b[39msum\u001b[39m(values), bound)\n\u001b[1;32m      6\u001b[0m small_sum \u001b[39m=\u001b[39m pc \u001b[39m|\u001b[39m \u001b[39m\"\u001b[39m\u001b[39msmall sum\u001b[39m\u001b[39m\"\u001b[39m \u001b[39m>>\u001b[39m beam\u001b[39m.\u001b[39mCombineGlobally(bounded_sum) \u001b[39m|\u001b[39m beam\u001b[39m.\u001b[39mMap(\u001b[39mprint\u001b[39m)  \u001b[39m# [500]\u001b[39;00m\n\u001b[0;32m----> 7\u001b[0m large_sum \u001b[39m=\u001b[39m pc \u001b[39m|\u001b[39;49m \u001b[39m\"\u001b[39;49m\u001b[39mlarge sum\u001b[39;49m\u001b[39m\"\u001b[39;49m \u001b[39m>>\u001b[39;49m beam\u001b[39m.\u001b[39;49mMap(\u001b[39mlambda\u001b[39;49;00m x : x\u001b[39m*\u001b[39;49m\u001b[39m*\u001b[39;49m\u001b[39m2\u001b[39;49m) \u001b[39m|\u001b[39;49m beam\u001b[39m.\u001b[39;49mMap(\u001b[39mprint\u001b[39;49m)\n",
      "File \u001b[0;32m~/opt/anaconda3/envs/bigdata/lib/python3.9/site-packages/apache_beam/pvalue.py:137\u001b[0m, in \u001b[0;36mPValue.__or__\u001b[0;34m(self, ptransform)\u001b[0m\n\u001b[1;32m    136\u001b[0m \u001b[39mdef\u001b[39;00m \u001b[39m__or__\u001b[39m(\u001b[39mself\u001b[39m, ptransform):\n\u001b[0;32m--> 137\u001b[0m   \u001b[39mreturn\u001b[39;00m \u001b[39mself\u001b[39;49m\u001b[39m.\u001b[39;49mpipeline\u001b[39m.\u001b[39;49mapply(ptransform, \u001b[39mself\u001b[39;49m)\n",
      "File \u001b[0;32m~/opt/anaconda3/envs/bigdata/lib/python3.9/site-packages/apache_beam/pipeline.py:680\u001b[0m, in \u001b[0;36mPipeline.apply\u001b[0;34m(self, transform, pvalueish, label)\u001b[0m\n\u001b[1;32m    676\u001b[0m full_label \u001b[39m=\u001b[39m \u001b[39m'\u001b[39m\u001b[39m/\u001b[39m\u001b[39m'\u001b[39m\u001b[39m.\u001b[39mjoin(\n\u001b[1;32m    677\u001b[0m     [\u001b[39mself\u001b[39m\u001b[39m.\u001b[39m_current_transform()\u001b[39m.\u001b[39mfull_label, label \u001b[39mor\u001b[39;00m\n\u001b[1;32m    678\u001b[0m      transform\u001b[39m.\u001b[39mlabel])\u001b[39m.\u001b[39mlstrip(\u001b[39m'\u001b[39m\u001b[39m/\u001b[39m\u001b[39m'\u001b[39m)\n\u001b[1;32m    679\u001b[0m \u001b[39mif\u001b[39;00m full_label \u001b[39min\u001b[39;00m \u001b[39mself\u001b[39m\u001b[39m.\u001b[39mapplied_labels:\n\u001b[0;32m--> 680\u001b[0m   \u001b[39mraise\u001b[39;00m \u001b[39mRuntimeError\u001b[39;00m(\n\u001b[1;32m    681\u001b[0m       \u001b[39m'\u001b[39m\u001b[39mA transform with label \u001b[39m\u001b[39m\"\u001b[39m\u001b[39m%s\u001b[39;00m\u001b[39m\"\u001b[39m\u001b[39m already exists in the pipeline. \u001b[39m\u001b[39m'\u001b[39m\n\u001b[1;32m    682\u001b[0m       \u001b[39m'\u001b[39m\u001b[39mTo apply a transform with a specified label write \u001b[39m\u001b[39m'\u001b[39m\n\u001b[1;32m    683\u001b[0m       \u001b[39m'\u001b[39m\u001b[39mpvalue | \u001b[39m\u001b[39m\"\u001b[39m\u001b[39mlabel\u001b[39m\u001b[39m\"\u001b[39m\u001b[39m >> transform\u001b[39m\u001b[39m'\u001b[39m \u001b[39m%\u001b[39m full_label)\n\u001b[1;32m    684\u001b[0m \u001b[39mself\u001b[39m\u001b[39m.\u001b[39mapplied_labels\u001b[39m.\u001b[39madd(full_label)\n\u001b[1;32m    686\u001b[0m pvalueish, inputs \u001b[39m=\u001b[39m transform\u001b[39m.\u001b[39m_extract_input_pvalues(pvalueish)\n",
      "\u001b[0;31mRuntimeError\u001b[0m: A transform with label \"[357]: Map(print)\" already exists in the pipeline. To apply a transform with a specified label write pvalue | \"label\" >> transform"
     ]
    }
   ],
   "source": [
    "pc = p | beam.Create([1, 10, 100, 1000])\n",
    "\n",
    "def bounded_sum(values, bound=500):\n",
    "  return min(sum(values), bound)\n",
    "\n",
    "small_sum = pc | \"small sum\" >> beam.CombineGlobally(bounded_sum) | beam.Map(print)  # [500]\n",
    "large_sum = pc | \"large sum\" >> beam.Map(lambda x : x**2) | beam.Map(print)"
   ]
  },
  {
   "cell_type": "code",
   "execution_count": 356,
   "metadata": {},
   "outputs": [
    {
     "ename": "AttributeError",
     "evalue": "'PCollection' object has no attribute 'element'",
     "output_type": "error",
     "traceback": [
      "\u001b[0;31m---------------------------------------------------------------------------\u001b[0m",
      "\u001b[0;31mAttributeError\u001b[0m                            Traceback (most recent call last)",
      "Cell \u001b[0;32mIn[356], line 1\u001b[0m\n\u001b[0;32m----> 1\u001b[0m large_sum\u001b[39m.\u001b[39;49melement\n",
      "\u001b[0;31mAttributeError\u001b[0m: 'PCollection' object has no attribute 'element'"
     ]
    }
   ],
   "source": [
    "large_sum.element"
   ]
  },
  {
   "cell_type": "code",
   "execution_count": null,
   "metadata": {},
   "outputs": [],
   "source": []
  }
 ],
 "metadata": {
  "kernelspec": {
   "display_name": "snowpark-de-ml",
   "language": "python",
   "name": "python3"
  },
  "language_info": {
   "codemirror_mode": {
    "name": "ipython",
    "version": 3
   },
   "file_extension": ".py",
   "mimetype": "text/x-python",
   "name": "python",
   "nbconvert_exporter": "python",
   "pygments_lexer": "ipython3",
   "version": "3.9.16"
  },
  "orig_nbformat": 4
 },
 "nbformat": 4,
 "nbformat_minor": 2
}
